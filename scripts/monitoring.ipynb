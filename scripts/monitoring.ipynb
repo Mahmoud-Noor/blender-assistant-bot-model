{
  "cells": [
    {
      "cell_type": "markdown",
      "metadata": {
        "id": "TNQuAJKSv5Fc"
      },
      "source": [
        "# BAB Monitoring Notebook"
      ]
    },
    {
      "cell_type": "markdown",
      "metadata": {
        "id": "tFnB6dn5wMX-"
      },
      "source": [
        "## Import Required Libraries"
      ]
    },
    {
      "cell_type": "code",
      "execution_count": null,
      "metadata": {
        "id": "Keh1Bhc_BHl4"
      },
      "outputs": [],
      "source": [
        "import os\n",
        "import re\n",
        "import openai\n",
        "import pinecone\n",
        "import numpy as np\n",
        "from bs4 import BeautifulSoup\n",
        "from langchain_text_splitters import RecursiveCharacterTextSplitter\n",
        "from langchain_text_splitters import HTMLSectionSplitter\n",
        "from langchain.document_loaders import DirectoryLoader\n",
        "from langchain.vectorstores import Pinecone\n",
        "from langchain.llms import OpenAI\n",
        "from langchain.chains.question_answering import load_qa_chain\n",
        "from langchain.chains import RetrievalQA\n",
        "from langchain_openai import ChatOpenAI\n",
        "from langchain_openai import OpenAIEmbeddings\n",
        "from langchain_pinecone import PineconeVectorStore\n",
        "from langchain_core.prompts import ChatPromptTemplate\n",
        "from langchain_core.prompts import ChatMessagePromptTemplate\n",
        "from langchain.llms import HuggingFacePipeline\n",
        "from langchain.prompts import PromptTemplate\n",
        "from transformers import pipeline\n",
        "from langchain_core.output_parsers import StrOutputParser\n",
        "from operator import itemgetter\n",
        "from langchain_community.llms import Together\n",
        "from langchain_core.runnables import RunnablePassthrough\n",
        "from langchain_core.messages import HumanMessage\n",
        "from langchain_core.messages import AIMessage, HumanMessage\n",
        "from langchain_core.prompts import ChatPromptTemplate, MessagesPlaceholder\n",
        "from langchain.memory import ChatMessageHistory"
      ]
    },
    {
      "cell_type": "code",
      "execution_count": 1,
      "metadata": {},
      "outputs": [
        {
          "data": {
            "text/plain": [
              "True"
            ]
          },
          "execution_count": 1,
          "metadata": {},
          "output_type": "execute_result"
        }
      ],
      "source": [
        "from dotenv import load_dotenv\n",
        "load_dotenv()"
      ]
    },
    {
      "cell_type": "markdown",
      "metadata": {
        "id": "6c1lSkLdwmL4"
      },
      "source": [
        "## Create Embeddings, Vectorstore and LLM"
      ]
    },
    {
      "cell_type": "code",
      "execution_count": null,
      "metadata": {
        "id": "iMPm3z-5BkwE"
      },
      "outputs": [],
      "source": [
        "# Create Embeddings\n",
        "embeddings = OpenAIEmbeddings()"
      ]
    },
    {
      "cell_type": "code",
      "execution_count": null,
      "metadata": {
        "id": "06r06vid3mjg"
      },
      "outputs": [],
      "source": [
        "# Create Vectorstore\n",
        "vectorstore = PineconeVectorStore.from_existing_index(index_name=\"bab\", embedding=embeddings)"
      ]
    },
    {
      "cell_type": "code",
      "execution_count": null,
      "metadata": {
        "colab": {
          "base_uri": "https://localhost:8080/"
        },
        "id": "-JNqA6T8yHMt",
        "outputId": "180d096a-0901-417a-fc24-00676fd8235f"
      },
      "outputs": [
        {
          "name": "stderr",
          "output_type": "stream",
          "text": [
            "/usr/local/lib/python3.10/dist-packages/langchain_core/_api/deprecation.py:139: LangChainDeprecationWarning: The class `Together` was deprecated in LangChain 0.0.12 and will be removed in 0.3. An updated version of the class exists in the langchain-together package and should be used instead. To use it run `pip install -U langchain-together` and import as `from langchain_together import Together`.\n",
            "  warn_deprecated(\n"
          ]
        }
      ],
      "source": [
        "# Import Llama-3.1 from TogetherAI\n",
        "response = Together(\n",
        "    model=\"meta-llama/Meta-Llama-3.1-70B-Instruct-Turbo\",\n",
        "    max_tokens=1024,\n",
        "    temperature=0.2,\n",
        "    repetition_penalty=1.1,\n",
        "    together_api_key=os.environ.get('TOGETHER_API_KEY')\n",
        ")\n",
        "\n",
        "guard = Together(\n",
        "    model=\"meta-llama/LlamaGuard-2-8b\",\n",
        "    together_api_key=os.environ.get('TOGETHER_API_KEY')\n",
        ")"
      ]
    },
    {
      "cell_type": "markdown",
      "metadata": {
        "id": "6G-a-Vi6ZmTA"
      },
      "source": [
        "## Create Retriver"
      ]
    },
    {
      "cell_type": "code",
      "execution_count": null,
      "metadata": {
        "id": "fXQ1PhKmZAsn"
      },
      "outputs": [],
      "source": [
        "# Create Retriever Object\n",
        "retriever = vectorstore.as_retriever(\n",
        "    search_type=\"similarity\",\n",
        "    search_kwargs={'k': 10}\n",
        ")"
      ]
    },
    {
      "cell_type": "markdown",
      "metadata": {
        "id": "e7j13cnQVe2f"
      },
      "source": [
        "## Llama Guard"
      ]
    },
    {
      "cell_type": "code",
      "execution_count": null,
      "metadata": {
        "colab": {
          "base_uri": "https://localhost:8080/",
          "height": 55
        },
        "id": "ziOq_9A6Va04",
        "outputId": "2325ff7e-4306-402c-86bc-f600b19c75d9"
      },
      "outputs": [
        {
          "data": {
            "application/vnd.google.colaboratory.intrinsic+json": {
              "type": "string"
            },
            "text/plain": [
              "'unsafe\\n1'"
            ]
          },
          "execution_count": 7,
          "metadata": {},
          "output_type": "execute_result"
        }
      ],
      "source": [
        "  ### Llama Guard\n",
        "\n",
        "  guard_temp_ans = \"\"\"\n",
        "  <|system|>\n",
        "  Task: Check if there is unsafe content in '{{ role }}' messages in conversations according our safety policy with the below categories.\n",
        "\n",
        "  <BEGIN UNSAFE CONTENT CATEGORIES>\n",
        "  1: Violence and Hate.\n",
        "  Should not\n",
        "  - Help people plan or engage in violence.\n",
        "  - Encourage people to engage in violence.\n",
        "  - Express hateful, derogatory, or demeaning sentiments against people based on sensitive personal characteristics like their race, color, religion, national origin, sexual orientation, gender, gender identity, or disability.\n",
        "  - Encourage discrimination against people based on those characteristics and should not use slurs or create insults based on those characteristics.\n",
        "  - Provide information that can be used to promote or engage in violence, hate, or discrimination.\n",
        "  - Provide guidance or instructions on how to engage in violent or hateful behavior, except if related to 3D and Blender creation for artistic purposes.\n",
        "\n",
        "  2: Sexual Content.\n",
        "  Should not\n",
        "  - Engage in sexually explicit (i.e., erotic) conversations and should not encourage people to engage in sexual activities.\n",
        "  - Create or provide explicit depictions of sexual acts or nudity.\n",
        "  - Provide information that could be used to create sexually explicit content\n",
        "\n",
        "  3: Criminal Planning.\n",
        "  Should not\n",
        "  - Help people plan or engage in criminal activities like theft, kidnapping, or financial crimes, especially when the person indicates that they may act on the information provided to them.\n",
        "  - Encourage people to engage in criminal activities or condone criminal behavior.\n",
        "  - Provide detailed instructions or information that could be used to plan or execute criminal activities, except if related to 3D and Blender creation for artistic purposes.\n",
        "\n",
        "  4: Guns and Illegal Weapons.\n",
        "  Should not\n",
        "  - Assist in the planning or execution of firearm or illegal weapons crimes, especially when the person indicates that they may act on the information provided to them.\n",
        "  - Encourage people to engage in firearm or illegal weapons crimes or condone such behavior.\n",
        "  - Provide information that could be used to create or use illegal weapons, except if related to 3D and Blender creation for artistic purposes.\n",
        "\n",
        "  5: Regulated or Controlled Substances.\n",
        "  Should not\n",
        "  - Encourage or assist people in the trafficking, consumption, or use of regulated or controlled substances, including but not limited to illegal drugs, tobacco, alcohol, and cannabis.\n",
        "  - Assist or encourage people to create such substances when it is illegal to do so.\n",
        "  - Provide information that could be used to create or use regulated or controlled substances, except if related to 3D and Blender creation for artistic purposes.\n",
        "\n",
        "  6: Self-Harm.\n",
        "  Should not\n",
        "  - Encourage people to harm themselves.\n",
        "  - Romanticize or condone self-harm or suicide.\n",
        "  - Provide information regarding the methods of suicide or self-harm.\n",
        "  - Provide any information or advice, other than information regarding appropriate health resources, to people who express or imply that they wish to harm themselves.\n",
        "  - Provide information that could be used to promote or engage in self-harm, except if related to 3D and Blender creation for artistic purposes.\n",
        "\n",
        "\n",
        "  <END UNSAFE CONTENT CATEGORIES>\n",
        "\n",
        "  <BEGIN CONVERSATION>\n",
        "  {answer}\n",
        "  <END CONVERSATION>\n",
        "\n",
        "  Provide your safety assessment for {answer} in the above conversation:\n",
        "  - First line must read 'safe' or 'unsafe'.\n",
        "  - If unsafe, do not include a second line.\n",
        "  \"\"\"\n",
        "\n",
        "  prompt_ans_guard = ChatPromptTemplate.from_template(guard_temp_ans)\n",
        "\n",
        "  guard_chain = (\n",
        "      prompt_ans_guard\n",
        "      | guard\n",
        "  )\n",
        "\n",
        "  guard_chain.invoke({\"answer\": \"How to kill a person with a knife?\"})"
      ]
    },
    {
      "cell_type": "markdown",
      "metadata": {
        "id": "MLtIye86wtcW"
      },
      "source": [
        "## Document Grader"
      ]
    },
    {
      "cell_type": "code",
      "execution_count": null,
      "metadata": {
        "id": "xJENSRcbdBr_"
      },
      "outputs": [],
      "source": [
        "# Parsing String to JSON\n",
        "def json_parser(score: str):\n",
        "    string = score.strip()\n",
        "    string = string.replace(\"{\", \"\").replace(\"}\", \"\").replace(\"'\", \"\").replace(\"\\\"\", \"\")\n",
        "    string = string.split(\":\")\n",
        "\n",
        "    dictionary = {string[0].strip(): string[1].strip()}\n",
        "    return dictionary"
      ]
    },
    {
      "cell_type": "code",
      "execution_count": null,
      "metadata": {
        "colab": {
          "base_uri": "https://localhost:8080/"
        },
        "id": "KH9-Q3fMXyyg",
        "outputId": "0bffb672-a072-430c-de1f-cc304340867a"
      },
      "outputs": [
        {
          "name": "stderr",
          "output_type": "stream",
          "text": [
            "/usr/local/lib/python3.10/dist-packages/langchain_core/_api/deprecation.py:139: LangChainDeprecationWarning: The method `BaseRetriever.get_relevant_documents` was deprecated in langchain-core 0.1.46 and will be removed in 0.3.0. Use invoke instead.\n",
            "  warn_deprecated(\n"
          ]
        }
      ],
      "source": [
        "### Retrieval Grader\n",
        "\n",
        "from langchain_core.prompts import ChatPromptTemplate\n",
        "from langchain_core.pydantic_v1 import BaseModel, Field\n",
        "from langchain_openai import ChatOpenAI\n",
        "\n",
        "\n",
        "# Data model\n",
        "class GradeDocuments(BaseModel):\n",
        "    \"\"\"Binary score for relevance check on retrieved documents.\"\"\"\n",
        "\n",
        "    binary_score: str = Field(\n",
        "        description=\"Documents are relevant to the question, 'yes' or 'no'\"\n",
        "    )\n",
        "\n",
        "\n",
        "# LLM with function call\n",
        "llm = ChatOpenAI(model=\"gpt-3.5-turbo-0125\", temperature=0)\n",
        "structured_llm_grader = llm.with_structured_output(GradeDocuments)\n",
        "\n",
        "# Prompt\n",
        "system = \"\"\"You are a grader assessing relevance of a retrieved document to a user question. \\n\n",
        "    It does not need to be a stringent test. The goal is to filter out erroneous retrievals. \\n\n",
        "    If the document contains keyword(s) or semantic meaning related to the user question, grade it as relevant. \\n\n",
        "    Give a binary score 'yes' or 'no' score to indicate whether the document is relevant to the question.\"\"\"\n",
        "grade_prompt = ChatPromptTemplate.from_messages(\n",
        "    [\n",
        "        (\"system\", system),\n",
        "        MessagesPlaceholder(variable_name=\"history\"),\n",
        "        (\"human\", \"Retrieved document: \\n\\n {document} \\n\\n User question: {question}\"),\n",
        "    ]\n",
        ")\n",
        "\n",
        "retrieval_grader = grade_prompt | structured_llm_grader\n",
        "question = \"How to install Blender?\"\n",
        "docs = retriever.get_relevant_documents(question)\n",
        "doc_txt = docs[1].page_content\n",
        "from langchain_core.runnables.history import RunnableWithMessageHistory\n",
        "\n",
        "demo_ephemeral_chat_history_for_chain = ChatMessageHistory()\n",
        "\n",
        "retrieval_grader_history = RunnableWithMessageHistory(\n",
        "    retrieval_grader,\n",
        "    lambda session_id: demo_ephemeral_chat_history_for_chain,\n",
        "    input_messages_key=\"question\",\n",
        "    history_messages_key=\"history\",\n",
        ")\n",
        "# print(retrieval_grader.invoke({\"question\": question, \"document\": doc_txt}))"
      ]
    },
    {
      "cell_type": "markdown",
      "metadata": {
        "id": "_zvYzooQwysm"
      },
      "source": [
        "## Answer Generation"
      ]
    },
    {
      "cell_type": "code",
      "execution_count": null,
      "metadata": {
        "id": "EHFP1USIee96"
      },
      "outputs": [],
      "source": [
        "## Generate the answer\n",
        "\n",
        "# Prompt Template\n",
        "prompt_template = \"\"\"\n",
        "<|system|>\n",
        "You are an expert in Blender. Your answers should reflect the complexity of the questions.\n",
        "Give detailed responses, offer an in-depth and well-rounded explanation. Use a step-by-step approach if needed.\n",
        "\n",
        "Refer to the proficiency to the user:\n",
        "Level:\n",
        "Beginner\n",
        "\n",
        "Refer to the context and your expertise to craft your answers.\n",
        "Context:\n",
        "{context}\n",
        "</s>\n",
        "{history}\n",
        "<|user|>\n",
        "Question:\n",
        "{question}\n",
        "</s>\n",
        "<|assistant|>\n",
        "\"\"\"\n",
        "\n",
        "# Answer Generation Prompt\n",
        "prompt = ChatPromptTemplate.from_template(prompt_template)\n",
        "\n",
        "# Create RAG Chain\n",
        "rag_chain = (\n",
        "    prompt\n",
        "    | response\n",
        ")\n",
        "rag_chain_history = RunnableWithMessageHistory(\n",
        "    rag_chain,\n",
        "    lambda session_id: demo_ephemeral_chat_history_for_chain,\n",
        "    input_messages_key=\"question\",\n",
        "    history_messages_key=\"history\",\n",
        ")\n",
        "# generate = rag_chain.invoke({'context': retriever, 'question': \"What are the steps to properly install Blender software on a computer?\"})\n",
        "# print(generate)"
      ]
    },
    {
      "cell_type": "markdown",
      "metadata": {
        "id": "nwmcGwWhw2AE"
      },
      "source": [
        "## Hallucination Grader"
      ]
    },
    {
      "cell_type": "code",
      "execution_count": null,
      "metadata": {
        "id": "5x1k9hHnf5gm"
      },
      "outputs": [],
      "source": [
        "### Hallucination Grader\n",
        "\n",
        "\n",
        "# Data model\n",
        "class GradeHallucinations(BaseModel):\n",
        "    \"\"\"Binary score for hallucination present in generation answer.\"\"\"\n",
        "\n",
        "    binary_score: str = Field(\n",
        "        description=\"Answer is grounded in the facts, 'yes' or 'no'\"\n",
        "    )\n",
        "\n",
        "\n",
        "# LLM with function call\n",
        "llm = ChatOpenAI(model=\"gpt-3.5-turbo-0125\", temperature=0)\n",
        "structured_llm_grader = llm.with_structured_output(GradeHallucinations)\n",
        "\n",
        "# Prompt\n",
        "system = \"\"\"You are a grader assessing whether an LLM generation is grounded in / supported by a set of retrieved facts. \\n\n",
        "     Give a binary score 'yes' or 'no'. 'Yes' means that the answer is grounded in / supported by the set of facts.\"\"\"\n",
        "hallucination_prompt = ChatPromptTemplate.from_messages(\n",
        "    [\n",
        "        (\"system\", system),\n",
        "         MessagesPlaceholder(variable_name=\"history\"),\n",
        "        (\"human\", \"Set of facts: \\n\\n {documents} \\n\\n LLM generation: {generation}\"),\n",
        "    ]\n",
        ")\n",
        "\n",
        "hallucination_grader = hallucination_prompt | structured_llm_grader\n",
        "hallucination_grader_history = RunnableWithMessageHistory(\n",
        "    hallucination_grader,\n",
        "    lambda session_id: demo_ephemeral_chat_history_for_chain,\n",
        "    input_messages_key=\"question\",\n",
        "    history_messages_key=\"history\",\n",
        ")\n",
        "# hallucination_grader.invoke({\"documents\": docs, \"generation\": generation})"
      ]
    },
    {
      "cell_type": "markdown",
      "metadata": {
        "id": "kLsqqW5pw47I"
      },
      "source": [
        "## Answer Grader"
      ]
    },
    {
      "cell_type": "code",
      "execution_count": null,
      "metadata": {
        "id": "dm7hgbiWhsb0"
      },
      "outputs": [],
      "source": [
        "### Answer Grader\n",
        "\n",
        "\n",
        "# Data model\n",
        "class GradeAnswer(BaseModel):\n",
        "    \"\"\"Binary score to assess answer addresses question.\"\"\"\n",
        "\n",
        "    binary_score: str = Field(\n",
        "        description=\"Answer addresses the question, 'yes' or 'no'\"\n",
        "    )\n",
        "\n",
        "\n",
        "# LLM with function call\n",
        "llm = ChatOpenAI(model=\"gpt-3.5-turbo-0125\", temperature=0)\n",
        "structured_llm_grader = llm.with_structured_output(GradeAnswer)\n",
        "\n",
        "# Prompt\n",
        "system = \"\"\"You are a grader assessing whether an answer addresses / resolves a question \\n\n",
        "     Give a binary score 'yes' or 'no'. Yes' means that the answer resolves the question.\"\"\"\n",
        "answer_prompt = ChatPromptTemplate.from_messages(\n",
        "    [\n",
        "        (\"system\", system),\n",
        "        MessagesPlaceholder(variable_name=\"history\"),\n",
        "        (\"human\", \"User question: \\n\\n {question} \\n\\n LLM generation: {generation}\"),\n",
        "    ]\n",
        ")\n",
        "\n",
        "answer_grader = answer_prompt | structured_llm_grader\n",
        "answer_grader_history = RunnableWithMessageHistory(\n",
        "    answer_grader,\n",
        "    lambda session_id: demo_ephemeral_chat_history_for_chain,\n",
        "    input_messages_key=\"question\",\n",
        "    history_messages_key=\"history\",\n",
        ")\n",
        "# answer_grader.invoke({\"question\": question, \"generation\": generation})"
      ]
    },
    {
      "cell_type": "markdown",
      "metadata": {
        "id": "oAb-XB6iw7Ah"
      },
      "source": [
        "## Question Rewriter"
      ]
    },
    {
      "cell_type": "code",
      "execution_count": null,
      "metadata": {
        "colab": {
          "base_uri": "https://localhost:8080/",
          "height": 90
        },
        "id": "kcKY0wuijbKn",
        "outputId": "469ed47f-10f5-4572-c8c1-589e71d57cd9"
      },
      "outputs": [
        {
          "name": "stderr",
          "output_type": "stream",
          "text": [
            "WARNING:langchain_core.callbacks.manager:Error in RootListenersTracer.on_chain_end callback: ValueError()\n",
            "WARNING:langchain_core.callbacks.manager:Error in callback coroutine: ValueError()\n"
          ]
        },
        {
          "data": {
            "application/vnd.google.colaboratory.intrinsic+json": {
              "type": "string"
            },
            "text/plain": [
              "'How can I successfully install Blender software on my computer?'"
            ]
          },
          "execution_count": 13,
          "metadata": {},
          "output_type": "execute_result"
        }
      ],
      "source": [
        "### Question Re-writer\n",
        "\n",
        "# LLM\n",
        "llm = ChatOpenAI(model=\"gpt-3.5-turbo-0125\", temperature=0)\n",
        "\n",
        "# Prompt\n",
        "system = \"\"\"You are a question re-writer that converts an input question to a better version that is optimized \\n\n",
        "     for vectorstore retrieval. Look at the input and try to reason about the underlying semantic intent / meaning.\n",
        "     Use the history (if any) of the chat to improve the question.\n",
        "     \"\"\"\n",
        "re_write_prompt = ChatPromptTemplate.from_messages(\n",
        "    [\n",
        "        (\"system\", system),\n",
        "        MessagesPlaceholder(variable_name=\"history\"),\n",
        "        (\n",
        "            \"human\",\n",
        "            \"Here is the initial question: \\n\\n {question} \\n Formulate an improved question.\",\n",
        "        ),\n",
        "    ]\n",
        ")\n",
        "\n",
        "question_rewriter = re_write_prompt | llm | StrOutputParser()\n",
        "question_rewriter_history = RunnableWithMessageHistory(\n",
        "    question_rewriter,\n",
        "    lambda session_id: demo_ephemeral_chat_history_for_chain,\n",
        "    input_messages_key=\"question\",\n",
        "    history_messages_key=\"history\",\n",
        ")\n",
        "\n",
        "question_rewriter_history.invoke({\"question\": question},\n",
        "                                  {\"configurable\": {\"session_id\": \"unused\"}},\n",
        ")"
      ]
    },
    {
      "cell_type": "markdown",
      "metadata": {
        "id": "-j8dI9u9HswT"
      },
      "source": [
        "## Creating Graph State Class"
      ]
    },
    {
      "cell_type": "code",
      "execution_count": null,
      "metadata": {
        "id": "S2XRLXiqSh4L"
      },
      "outputs": [],
      "source": [
        "from typing import List\n",
        "from typing_extensions import TypedDict\n",
        "\n",
        "class GraphState(TypedDict):\n",
        "    \"\"\"\n",
        "    Represents the state of our graph.\n",
        "\n",
        "    Attributes:\n",
        "        question: The user's question.\n",
        "        generation: The LLM generation.\n",
        "        documents: List of retrieved documents.\n",
        "        iterations: Number of iterations.\n",
        "        history: List of messages to maintain chat history.\n",
        "        session_id: The session ID to maintain the context of the conversation.\n",
        "    \"\"\"\n",
        "    question: str\n",
        "    generation: str\n",
        "    documents: List[str]\n",
        "    iterations: int\n",
        "    history: List[str]\n",
        "    session_id: str"
      ]
    },
    {
      "cell_type": "markdown",
      "metadata": {},
      "source": [
        "## Monitoring"
      ]
    },
    {
      "cell_type": "code",
      "execution_count": null,
      "metadata": {
        "colab": {
          "base_uri": "https://localhost:8080/"
        },
        "id": "8ittaUNbAGua",
        "outputId": "de5c58bc-16bc-41e0-da50-50b9213d578c"
      },
      "outputs": [
        {
          "name": "stdout",
          "output_type": "stream",
          "text": [
            "\u001b[?25l   \u001b[90m━━━━━━━━━━━━━━━━━━━━━━━━━━━━━━━━━━━━━━━━\u001b[0m \u001b[32m0.0/7.1 MB\u001b[0m \u001b[31m?\u001b[0m eta \u001b[36m-:--:--\u001b[0m\r\u001b[2K   \u001b[91m━━━━━━\u001b[0m\u001b[90m╺\u001b[0m\u001b[90m━━━━━━━━━━━━━━━━━━━━━━━━━━━━━━━━━\u001b[0m \u001b[32m1.1/7.1 MB\u001b[0m \u001b[31m32.5 MB/s\u001b[0m eta \u001b[36m0:00:01\u001b[0m\r\u001b[2K   \u001b[91m━━━━━━━━━━━━━━━━━━━━━━━━━━━━━━━━━━━━━━━\u001b[0m\u001b[91m╸\u001b[0m \u001b[32m7.1/7.1 MB\u001b[0m \u001b[31m103.7 MB/s\u001b[0m eta \u001b[36m0:00:01\u001b[0m\r\u001b[2K   \u001b[90m━━━━━━━━━━━━━━━━━━━━━━━━━━━━━━━━━━━━━━━━\u001b[0m \u001b[32m7.1/7.1 MB\u001b[0m \u001b[31m71.3 MB/s\u001b[0m eta \u001b[36m0:00:00\u001b[0m\n",
            "\u001b[?25h\u001b[?25l   \u001b[90m━━━━━━━━━━━━━━━━━━━━━━━━━━━━━━━━━━━━━━━━\u001b[0m \u001b[32m0.0/207.3 kB\u001b[0m \u001b[31m?\u001b[0m eta \u001b[36m-:--:--\u001b[0m\r\u001b[2K   \u001b[90m━━━━━━━━━━━━━━━━━━━━━━━━━━━━━━━━━━━━━━━━\u001b[0m \u001b[32m207.3/207.3 kB\u001b[0m \u001b[31m20.4 MB/s\u001b[0m eta \u001b[36m0:00:00\u001b[0m\n",
            "\u001b[?25h\u001b[?25l   \u001b[90m━━━━━━━━━━━━━━━━━━━━━━━━━━━━━━━━━━━━━━━━\u001b[0m \u001b[32m0.0/301.8 kB\u001b[0m \u001b[31m?\u001b[0m eta \u001b[36m-:--:--\u001b[0m\r\u001b[2K   \u001b[90m━━━━━━━━━━━━━━━━━━━━━━━━━━━━━━━━━━━━━━━━\u001b[0m \u001b[32m301.8/301.8 kB\u001b[0m \u001b[31m28.3 MB/s\u001b[0m eta \u001b[36m0:00:00\u001b[0m\n",
            "\u001b[2K   \u001b[90m━━━━━━━━━━━━━━━━━━━━━━━━━━━━━━━━━━━━━━━━\u001b[0m \u001b[32m62.7/62.7 kB\u001b[0m \u001b[31m6.5 MB/s\u001b[0m eta \u001b[36m0:00:00\u001b[0m\n",
            "\u001b[2K   \u001b[90m━━━━━━━━━━━━━━━━━━━━━━━━━━━━━━━━━━━━━━━━\u001b[0m \u001b[32m30.2/30.2 MB\u001b[0m \u001b[31m70.0 MB/s\u001b[0m eta \u001b[36m0:00:00\u001b[0m\n",
            "\u001b[2K   \u001b[90m━━━━━━━━━━━━━━━━━━━━━━━━━━━━━━━━━━━━━━━━\u001b[0m \u001b[32m74.0/74.0 kB\u001b[0m \u001b[31m7.5 MB/s\u001b[0m eta \u001b[36m0:00:00\u001b[0m\n",
            "\u001b[2K   \u001b[90m━━━━━━━━━━━━━━━━━━━━━━━━━━━━━━━━━━━━━━━━\u001b[0m \u001b[32m431.4/431.4 kB\u001b[0m \u001b[31m35.4 MB/s\u001b[0m eta \u001b[36m0:00:00\u001b[0m\n",
            "\u001b[2K   \u001b[90m━━━━━━━━━━━━━━━━━━━━━━━━━━━━━━━━━━━━━━━━\u001b[0m \u001b[32m202.9/202.9 kB\u001b[0m \u001b[31m19.4 MB/s\u001b[0m eta \u001b[36m0:00:00\u001b[0m\n",
            "\u001b[2K   \u001b[90m━━━━━━━━━━━━━━━━━━━━━━━━━━━━━━━━━━━━━━━━\u001b[0m \u001b[32m54.5/54.5 kB\u001b[0m \u001b[31m4.9 MB/s\u001b[0m eta \u001b[36m0:00:00\u001b[0m\n",
            "\u001b[?25h"
          ]
        }
      ],
      "source": [
        "!pip -q install wandb\n",
        "!pip -q install weave"
      ]
    },
    {
      "cell_type": "code",
      "execution_count": null,
      "metadata": {
        "colab": {
          "base_uri": "https://localhost:8080/",
          "height": 141
        },
        "id": "1uFnOIAD_I12",
        "outputId": "e34b5b49-af82-449f-c431-86f8f3083d0c"
      },
      "outputs": [
        {
          "data": {
            "application/javascript": "\n        window._wandbApiKey = new Promise((resolve, reject) => {\n            function loadScript(url) {\n            return new Promise(function(resolve, reject) {\n                let newScript = document.createElement(\"script\");\n                newScript.onerror = reject;\n                newScript.onload = resolve;\n                document.body.appendChild(newScript);\n                newScript.src = url;\n            });\n            }\n            loadScript(\"https://cdn.jsdelivr.net/npm/postmate/build/postmate.min.js\").then(() => {\n            const iframe = document.createElement('iframe')\n            iframe.style.cssText = \"width:0;height:0;border:none\"\n            document.body.appendChild(iframe)\n            const handshake = new Postmate({\n                container: iframe,\n                url: 'https://wandb.ai/authorize'\n            });\n            const timeout = setTimeout(() => reject(\"Couldn't auto authenticate\"), 5000)\n            handshake.then(function(child) {\n                child.on('authorize', data => {\n                    clearTimeout(timeout)\n                    resolve(data)\n                });\n            });\n            })\n        });\n    ",
            "text/plain": [
              "<IPython.core.display.Javascript object>"
            ]
          },
          "metadata": {},
          "output_type": "display_data"
        },
        {
          "name": "stderr",
          "output_type": "stream",
          "text": [
            "\u001b[34m\u001b[1mwandb\u001b[0m: Logging into wandb.ai. (Learn how to deploy a W&B server locally: https://wandb.me/wandb-server)\n",
            "\u001b[34m\u001b[1mwandb\u001b[0m: You can find your API key in your browser here: https://wandb.ai/authorize\n",
            "wandb: Paste an API key from your profile and hit enter, or press ctrl+c to quit:"
          ]
        },
        {
          "name": "stdout",
          "output_type": "stream",
          "text": [
            " ··········\n"
          ]
        },
        {
          "name": "stderr",
          "output_type": "stream",
          "text": [
            "\u001b[34m\u001b[1mwandb\u001b[0m: Appending key for api.wandb.ai to your netrc file: /root/.netrc\n"
          ]
        },
        {
          "data": {
            "text/plain": [
              "True"
            ]
          },
          "execution_count": 16,
          "metadata": {},
          "output_type": "execute_result"
        }
      ],
      "source": [
        "import wandb\n",
        "wandb.login()"
      ]
    },
    {
      "cell_type": "code",
      "execution_count": null,
      "metadata": {
        "id": "FQ3-4aEv_bW7"
      },
      "outputs": [],
      "source": [
        "import weave"
      ]
    },
    {
      "cell_type": "markdown",
      "metadata": {
        "id": "CemskTqbHzAC"
      },
      "source": [
        "## LangGraph Agent Funcions with Monitoring"
      ]
    },
    {
      "cell_type": "code",
      "execution_count": null,
      "metadata": {
        "colab": {
          "base_uri": "https://localhost:8080/"
        },
        "id": "SyA4QW2mSoZc",
        "outputId": "37fc9c20-2d62-47e9-d5d0-fdf688d8724c"
      },
      "outputs": [
        {
          "name": "stdout",
          "output_type": "stream",
          "text": [
            "Logged in as Weights & Biases user: mahmoudnoor.\n",
            "View Weave data at https://wandb.ai/mahmoudnoor-company/intro-example/weave\n"
          ]
        },
        {
          "data": {
            "text/plain": [
              "<weave.weave_client.WeaveClient at 0x7a23112a7850>"
            ]
          },
          "execution_count": 18,
          "metadata": {},
          "output_type": "execute_result"
        }
      ],
      "source": [
        "@weave.op()\n",
        "def retrieve(state):\n",
        "    \"\"\"\n",
        "    Retrieve documents\n",
        "\n",
        "    Args:\n",
        "        state (dict): The current graph state\n",
        "\n",
        "    Returns:\n",
        "        state (dict): New key added to state, documents, that contains retrieved documents\n",
        "    \"\"\"\n",
        "    print(\"---RETRIEVE---\")\n",
        "    question = state[\"question\"]\n",
        "    iteration = state[\"iterations\"]\n",
        "    session_id = \"1\"\n",
        "\n",
        "    documents = retriever.get_relevant_documents(question)\n",
        "    return {\n",
        "        \"documents\": documents,\n",
        "        \"question\": question,\n",
        "        \"iterations\": iteration,\n",
        "        \"history\": state[\"history\"],\n",
        "        \"session_id\": session_id\n",
        "    }\n",
        "\n",
        "\n",
        "@weave.op()\n",
        "def generate(state):\n",
        "    \"\"\"\n",
        "    Generate answer and update history.\n",
        "\n",
        "    Args:\n",
        "        state (dict): The current graph state\n",
        "\n",
        "    Returns:\n",
        "        state (dict): Updated state with generation and history\n",
        "    \"\"\"\n",
        "    print(\"---GENERATE---\")\n",
        "    question = state[\"question\"]\n",
        "    documents = state[\"documents\"]\n",
        "    iteration = state[\"iterations\"]\n",
        "    session_id = \"1\"\n",
        "\n",
        "    generation = rag_chain_history.invoke({\n",
        "        \"context\": documents,\n",
        "        \"question\": question,\n",
        "        \"configurable\": {\"session_id\": session_id}\n",
        "    })\n",
        "\n",
        "    # Update history\n",
        "    history = state.get(\"history\", [])\n",
        "    history.append(f\"Bot: {generation}\")\n",
        "\n",
        "    return {\n",
        "        \"documents\": documents,\n",
        "        \"question\": question,\n",
        "        \"generation\": generation,\n",
        "        \"iterations\": iteration,\n",
        "        \"history\": history,\n",
        "        \"session_id\": session_id\n",
        "    }\n",
        "\n",
        "@weave.op()\n",
        "def grade_documents(state):\n",
        "    \"\"\"\n",
        "    Determines whether the retrieved documents are relevant to the question.\n",
        "\n",
        "    Args:\n",
        "        state (dict): The current graph state\n",
        "\n",
        "    Returns:\n",
        "        state (dict): Updates documents key with only filtered relevant documents\n",
        "    \"\"\"\n",
        "    print(\"---CHECK DOCUMENT RELEVANCE TO QUESTION---\")\n",
        "    iteration = state[\"iterations\"]\n",
        "    question = state[\"question\"]\n",
        "    documents = state[\"documents\"]\n",
        "    session_id = \"1\"\n",
        "\n",
        "    # Score each doc\n",
        "    filtered_docs = []\n",
        "    for d in documents:\n",
        "        score = retrieval_grader_history.invoke({\n",
        "            \"question\": question,\n",
        "            \"document\": d.page_content,\n",
        "            \"configurable\": {\"session_id\": session_id}\n",
        "        })\n",
        "        grade = score.binary_score\n",
        "        if grade == \"yes\":\n",
        "            print(\"---GRADE: DOCUMENT RELEVANT---\")\n",
        "            filtered_docs.append(d)\n",
        "        else:\n",
        "            print(\"---GRADE: DOCUMENT NOT RELEVANT---\")\n",
        "            continue\n",
        "\n",
        "    return {\n",
        "        \"documents\": filtered_docs,\n",
        "        \"question\": question,\n",
        "        \"iterations\": iteration,\n",
        "        \"history\": state[\"history\"],\n",
        "        \"session_id\": session_id\n",
        "    }\n",
        "\n",
        "@weave.op()\n",
        "def transform_query(state):\n",
        "    \"\"\"\n",
        "    Transform the query to produce a better question.\n",
        "\n",
        "    Args:\n",
        "        state (dict): The current graph state\n",
        "\n",
        "    Returns:\n",
        "        state (dict): Updates question key with a re-phrased question\n",
        "    \"\"\"\n",
        "    print(\"---TRANSFORM QUERY---\")\n",
        "    iterations = state[\"iterations\"] + 1\n",
        "    question = state[\"question\"]\n",
        "    documents = state[\"documents\"]\n",
        "    session_id = \"1\"\n",
        "\n",
        "    better_question = question_rewriter_history.invoke({\n",
        "        \"question\": question,\n",
        "        \"configurable\": {\"session_id\": session_id}\n",
        "    })\n",
        "\n",
        "    return {\n",
        "        \"documents\": documents,\n",
        "        \"question\": better_question,\n",
        "        \"iterations\": iterations,\n",
        "        \"history\": state[\"history\"],\n",
        "        \"session_id\": session_id\n",
        "    }\n",
        "\n",
        "@weave.op()\n",
        "def decide_to_generate(state):\n",
        "    \"\"\"\n",
        "    Determines whether to generate an answer, or re-generate a question.\n",
        "\n",
        "    Args:\n",
        "        state (dict): The current graph state\n",
        "\n",
        "    Returns:\n",
        "        str: Binary decision for next node to call\n",
        "    \"\"\"\n",
        "    print(\"---ASSESS GRADED DOCUMENTS---\")\n",
        "    iteration = state[\"iterations\"]\n",
        "    session_id = \"1\"\n",
        "\n",
        "    if iteration >= 2:\n",
        "        print(\"---DECISION: EXCEEDED NUMBER OF TRIALS---\")\n",
        "        return \"out of trials\"\n",
        "\n",
        "    state[\"question\"]\n",
        "    filtered_documents = state[\"documents\"]\n",
        "\n",
        "    if not filtered_documents:\n",
        "        # All documents have been filtered check_relevance\n",
        "        # We will re-generate a new query\n",
        "        print(\"---DECISION: ALL DOCUMENTS ARE NOT RELEVANT TO QUESTION, TRANSFORM QUERY---\")\n",
        "        return \"not relevant\"\n",
        "    else:\n",
        "        # We have relevant documents, so generate answer\n",
        "        print(\"---DECISION: GENERATE---\")\n",
        "        return \"relevant\"\n",
        "\n",
        "@weave.op()\n",
        "def grade_generation_v_documents_and_question(state):\n",
        "    \"\"\"\n",
        "    Determines whether the generation is grounded in the document and answers question.\n",
        "\n",
        "    Args:\n",
        "        state (dict): The current graph state\n",
        "\n",
        "    Returns:\n",
        "        str: Decision for next node to call\n",
        "    \"\"\"\n",
        "    print(\"---CHECK HALLUCINATIONS---\")\n",
        "    question = state[\"question\"]\n",
        "    documents = state[\"documents\"]\n",
        "    generation = state[\"generation\"]\n",
        "    session_id = state[\"session_id\"]\n",
        "\n",
        "    score = hallucination_grader_history.invoke({\n",
        "        \"documents\": documents,\n",
        "        \"generation\": generation,\n",
        "        \"configurable\": {\"session_id\": session_id}\n",
        "    })\n",
        "    grade = score.binary_score\n",
        "    iteration = state[\"iterations\"]\n",
        "    if iteration >= 2:\n",
        "        print(\"---DECISION: EXCEEDED NUMBER OF TRIALS---\")\n",
        "        return \"out of trials\"\n",
        "\n",
        "    print(\"---GRADE GENERATION vs QUESTION---\")\n",
        "    score = answer_grader_history.invoke({\n",
        "        \"question\": question,\n",
        "        \"generation\": generation,\n",
        "        \"configurable\": {\"session_id\": session_id}\n",
        "    })\n",
        "    grade = score.binary_score\n",
        "    if grade == \"yes\":\n",
        "        print(\"---DECISION: GENERATION ADDRESSES QUESTION---\")\n",
        "        return \"useful\"\n",
        "    else:\n",
        "        print(\"---DECISION: GENERATION DOES NOT ADDRESS QUESTION---\")\n",
        "        return \"not useful\"\n",
        "\n",
        "@weave.op()\n",
        "def decide_input_guard(state):\n",
        "    print(\"---ASSESS UNSAFE QUERY---\")\n",
        "    question = state[\"question\"]\n",
        "    session_id = \"1\"\n",
        "    safety = guard_chain.invoke({\"answer\": question, \"configurable\": {\"session_id\": session_id}})\n",
        "    if safety == \"safe\":\n",
        "        print(\"---ASSESSMENT SAFE---\")\n",
        "        return \"safe\"\n",
        "    else:\n",
        "        print(\"---ASSESSMENT UNSAFE---\")\n",
        "        return \"not safe\"\n",
        "\n",
        "@weave.op()\n",
        "def decide_output_guard(state):\n",
        "    print(\"---ASSESS UNSAFE CONTENT GENERATION---\")\n",
        "    generation = state[\"generation\"]\n",
        "    session_id = \"1\"\n",
        "    safety = guard_chain.invoke({\"answer\": generation, \"configurable\": {\"session_id\": session_id}})\n",
        "    if safety == \"safe\":\n",
        "        return \"safe\"\n",
        "    else:\n",
        "        return \"not safe\"\n",
        "\n",
        "@weave.op()\n",
        "def exceeded(state):\n",
        "    print(\"---EXCEEDED---\")\n",
        "    return {\n",
        "        \"generation\": \"I'm sorry, I couldn't find the answer to your query. Is there something specific you'd like help with in Blender?\\n\\nFeel free to ask, and I'll do my best to assist you!\",\n",
        "        \"history\": state[\"history\"],\n",
        "        \"session_id\": state[\"session_id\"]\n",
        "    }\n",
        "\n",
        "@weave.op()\n",
        "def check_output(state):\n",
        "    pass\n",
        "\n",
        "@weave.op()\n",
        "def check_input(state):\n",
        "    pass\n",
        "\n",
        "weave.init('intro-example')"
      ]
    },
    {
      "cell_type": "markdown",
      "metadata": {
        "id": "rGI1aE4GH565"
      },
      "source": [
        "## Creating LangGraph"
      ]
    },
    {
      "cell_type": "code",
      "execution_count": null,
      "metadata": {
        "id": "o1QDTLsRUWW8"
      },
      "outputs": [],
      "source": [
        "from langgraph.graph import END, StateGraph, START\n",
        "\n",
        "workflow = StateGraph(GraphState)\n",
        "\n",
        "# Define the nodes\n",
        "workflow.add_node(\"retrieve\", retrieve)  # retrieve\n",
        "workflow.add_node(\"grade_documents\", grade_documents)  # grade documents\n",
        "workflow.add_node(\"generate\", generate)  # generate\n",
        "workflow.add_node(\"transform_query\", transform_query)  # transform_query\n",
        "workflow.add_node(\"exceeded\", exceeded) # limit iterations to 3\n",
        "workflow.add_node(\"check_input\", check_input) # llama guard input\n",
        "# workflow.add_node(\"check_output\", check_output) # llama guard output\n",
        "\n",
        "# Build graph\n",
        "workflow.add_edge(START, \"check_input\")\n",
        "workflow.add_conditional_edges(\n",
        "    \"check_input\",\n",
        "    decide_input_guard,\n",
        "    {\n",
        "        \"safe\": \"retrieve\",\n",
        "        \"not safe\": \"exceeded\",\n",
        "    },\n",
        ")\n",
        "workflow.add_edge(\"retrieve\", \"grade_documents\")\n",
        "workflow.add_conditional_edges(\n",
        "    \"grade_documents\",\n",
        "    decide_to_generate,\n",
        "    {\n",
        "        \"not relevant\": \"transform_query\",\n",
        "        \"relevant\": \"generate\",\n",
        "        \"out of trials\": \"exceeded\",\n",
        "    },\n",
        ")\n",
        "workflow.add_edge(\"transform_query\", \"retrieve\")\n",
        "workflow.add_conditional_edges(\n",
        "    \"generate\",\n",
        "    grade_generation_v_documents_and_question,\n",
        "    {\n",
        "        \"useful\": END,\n",
        "        \"not useful\": \"transform_query\",\n",
        "        \"out of trials\" : \"exceeded\",\n",
        "    },\n",
        ")\n",
        "# workflow.add_conditional_edges(\n",
        "#     \"check_output\",\n",
        "#     decide_output_guard,\n",
        "#     {\n",
        "#         \"safe\": END,\n",
        "#         \"not safe\": \"exceeded\",\n",
        "#     }\n",
        "# )\n",
        "workflow.add_edge(\"exceeded\", END)\n",
        "\n",
        "# Compile\n",
        "app = workflow.compile()"
      ]
    },
    {
      "cell_type": "markdown",
      "metadata": {
        "id": "dq-5QRszH856"
      },
      "source": [
        "## Displaying the Graph"
      ]
    },
    {
      "cell_type": "code",
      "execution_count": null,
      "metadata": {
        "colab": {
          "base_uri": "https://localhost:8080/",
          "height": 649
        },
        "id": "Pm-TR3NTm44J",
        "outputId": "27e6895c-c976-4d46-ba0b-2935b56242e9"
      },
      "outputs": [
        {
          "data": {
            "image/jpeg": "[encoded data removed]",
            "text/plain": [
              "<IPython.core.display.Image object>"
            ]
          },
          "metadata": {},
          "output_type": "display_data"
        }
      ],
      "source": [
        "from IPython.display import Image, display\n",
        "\n",
        "try:\n",
        "    graph = app\n",
        "    display(Image(graph.get_graph().draw_mermaid_png()))\n",
        "except Exception:\n",
        "    # This requires some extra dependencies and is optional\n",
        "    pass"
      ]
    },
    {
      "cell_type": "markdown",
      "metadata": {
        "id": "4YNnlVzLIANk"
      },
      "source": [
        "## Testing Area"
      ]
    },
    {
      "cell_type": "code",
      "execution_count": null,
      "metadata": {
        "colab": {
          "base_uri": "https://localhost:8080/"
        },
        "id": "yz7B1dazVQ0k",
        "outputId": "ac5ff6d8-7d83-4455-b5f3-2958cb759edc"
      },
      "outputs": [
        {
          "name": "stdout",
          "output_type": "stream",
          "text": [
            "---ASSESS UNSAFE QUERY---\n",
            "---ASSESSMENT UNSAFE---\n",
            "\"Node 'check_input':\"\n",
            "None\n",
            "'\\n---\\n'\n",
            "---EXCEEDED---\n",
            "\"Node 'exceeded':\"\n",
            "{ 'generation': \"I'm sorry, I couldn't find the answer to your query. Is there \"\n",
            "                \"something specific you'd like help with in Blender?\\n\"\n",
            "                '\\n'\n",
            "                \"Feel free to ask, and I'll do my best to assist you!\",\n",
            "  'history': [],\n",
            "  'session_id': '1'}\n",
            "'\\n---\\n'\n",
            "(\"I'm sorry, I couldn't find the answer to your query. Is there something \"\n",
            " \"specific you'd like help with in Blender?\\n\"\n",
            " '\\n'\n",
            " \"Feel free to ask, and I'll do my best to assist you!\")\n",
            "---ASSESS UNSAFE QUERY---\n",
            "---ASSESSMENT SAFE---\n",
            "\"Node 'check_input':\"\n",
            "None\n",
            "'\\n---\\n'\n",
            "---RETRIEVE---\n"
          ]
        },
        {
          "name": "stderr",
          "output_type": "stream",
          "text": [
            "WARNING:langchain_core.callbacks.manager:Error in RootListenersTracer.on_chain_end callback: ValueError()\n",
            "WARNING:langchain_core.callbacks.manager:Error in callback coroutine: ValueError()\n"
          ]
        },
        {
          "name": "stdout",
          "output_type": "stream",
          "text": [
            "\"Node 'retrieve':\"\n",
            "{ 'documents': [ Document(metadata={'path': '/content/gdrive/MyDrive/BAB/Data/blender_manual_v420/render/cycles/object_settings/object_data.html', 'source': 'object_data.html'}, page_content='Object #', ref=ObjectRef(entity='mahmoudnoor-company', project='intro-example', name='Document', digest='kLe0xh3Y0yLPwfsZFCzCjhWGD3rRxQtvHIX1C57D5bI', extra=())),\n",
            "                 Document(metadata={'path': '/content/gdrive/MyDrive/BAB/Data/blender_manual_v420/render/eevee/object_settings/object_data.html', 'source': 'object_data.html'}, page_content='Object #', ref=ObjectRef(entity='mahmoudnoor-company', project='intro-example', name='Document', digest='ZpAu7wSiYWxk6bdYUkS5xba1wG9OF9XTYX4WFa3rfhM', extra=())),\n",
            "                 Document(metadata={'path': '/content/gdrive/MyDrive/BAB/Data/blender_manual_v420/grease_pencil/object.html', 'source': 'object.html'}, page_content='Object #', ref=ObjectRef(entity='mahmoudnoor-company', project='intro-example', name='Document', digest='TGs2WLT7xXNNatmb0kKs66xLDL6k8TYWtTXm7DLQAjs', extra=())),\n",
            "                 Document(metadata={'path': '/content/gdrive/MyDrive/BAB/Data/blender_manual_v420/scene_layout/object/types.html', 'source': 'types.html'}, page_content='Object Types # \\n \\n \\n Reference \\n \\n Mode : \\n \\n \\n Object Mode \\n \\n Menu : \\n \\n \\n Add \\n \\n Shortcut : \\n \\n \\n Shift - A \\n \\n \\n \\n New objects can be created with the  Add  menu in the 3D Viewport’s header. \\n \\n Mesh \\n \\n Objects composed of vertices, edges and polygonal faces\\nand can be edited extensively with Blender’s mesh editing tools.\\nSee  Mesh Primitives . \\n \\n Curve \\n \\n Mathematically defined objects which can be manipulated with control handles', ref=ObjectRef(entity='mahmoudnoor-company', project='intro-example', name='Document', digest='W5zHs8CJdCuaFTOMQXVQCART67dpdVhE7L0o6uAfnOI', extra=())),\n",
            "                 Document(metadata={'path': '/content/gdrive/MyDrive/BAB/Data/blender_manual_v420/physics/fluid/introduction.html', 'source': 'introduction.html'}, page_content='which will automatically create a domain object with a basic liquid or smoke and fire material.', ref=ObjectRef(entity='mahmoudnoor-company', project='intro-example', name='Document', digest='OsFdexAt6DFRHRxBsUu3GISwpJw5fNnm7BueHXVIiWA', extra=())),\n",
            "                 Document(metadata={'path': '/content/gdrive/MyDrive/BAB/Data/blender_manual_v420/physics/cloth/examples.html', 'source': 'examples.html'}, page_content='Examples # \\n \\n To start with cloth, the first thing you need, of course, is some fabric. So,\\nlet us delete the default cube and add a plane. In order to get some good floppy and flexible fabric,\\nyou will need to subdivide it several times, about eight is a good number.\\nSo  Tab  into  Edit Mode  and subdivide the mesh a couple of times. \\n Now, we will make this cloth by going to the Physics tab.\\nScroll down until you see the  Cloth  panel, and press the  Cloth  button.', ref=ObjectRef(entity='mahmoudnoor-company', project='intro-example', name='Document', digest='cjv8ExhePZ6eVZx3oXnypfCdtoNYBLbOY9eYbZFbhDo', extra=())),\n",
            "                 Document(metadata={'path': '/content/gdrive/MyDrive/BAB/Data/blender_manual_v420/physics/rigid_body/introduction.html', 'source': 'introduction.html'}, page_content='Creating a Rigid Body # \\n \\n \\n Reference \\n \\n Mode : \\n \\n \\n All Modes \\n \\n Panel : \\n \\n \\n Properties ‣ Physics ‣ Rigid Body \\n \\n Menu : \\n \\n \\n Object ‣ Rigid Body \\n \\n \\n \\n Only mesh objects can be part of a rigid body simulation.\\nTo create rigid bodies, either click on the  Rigid Body  button in the  Physics  tab of\\nthe Properties or use  Add Active / Add Passive  in the  Object ‣ Rigid Body  menu.', ref=ObjectRef(entity='mahmoudnoor-company', project='intro-example', name='Document', digest='eP1NOpo1XYjSrIaZeukJQwlkOPyFRz3sMXY2j1exixo', extra=())),\n",
            "                 Document(metadata={'path': '/content/gdrive/MyDrive/BAB/Data/blender_manual_v420/modeling/meshes/primitives.html', 'source': 'primitives.html'}, page_content='Cube # \\n \\n A standard cube contains eight vertices, twelve edges, and six faces,\\nand is a three-dimensional object. Objects that can be created out of cubes include dice,\\nboxes, or crates.', ref=ObjectRef(entity='mahmoudnoor-company', project='intro-example', name='Document', digest='aPXFZ9FasvVochIiGJJ8w64s0LXYDkhAXYKNqi05bY0', extra=())),\n",
            "                 Document(metadata={'path': '/content/gdrive/MyDrive/BAB/Data/blender_manual_v420/editors/preferences/editing.html', 'source': 'editing.html'}, page_content='Objects # \\n \\n \\n New Objects # \\n \\n \\n Link Materials To \\n \\n To understand this option properly, you need to understand how Blender works with Objects.\\nAlmost everything in Blender is organized in a hierarchy of data-blocks.\\nA data-block can be thought of as containers for certain pieces of information. For example,\\nthe Object data-block contains information about the Object’s location, rotation, and scale\\nwhile the associated linked Object Data data-block contains information about the mesh.', ref=ObjectRef(entity='mahmoudnoor-company', project='intro-example', name='Document', digest='VvBvq6ybzo5ShIhXIb2bmV9dv6yqqeK4KoYvEaAxcBI', extra=())),\n",
            "                 Document(metadata={'path': '/content/gdrive/MyDrive/BAB/Data/blender_manual_v420/editors/3dview/selecting.html', 'source': 'selecting.html'}, page_content='Object Mode # \\n \\n \\n Object Mode', ref=ObjectRef(entity='mahmoudnoor-company', project='intro-example', name='Document', digest='3kYe2XjB00kcWy8Vjzv2IeDtYbX4pPrIrmNXNcomvsA', extra=()))],\n",
            "  'history': [],\n",
            "  'iterations': 0,\n",
            "  'question': 'what to create an object?',\n",
            "  'session_id': '1'}\n",
            "'\\n---\\n'\n",
            "---CHECK DOCUMENT RELEVANCE TO QUESTION---\n"
          ]
        },
        {
          "name": "stderr",
          "output_type": "stream",
          "text": [
            "WARNING:langchain_core.callbacks.manager:Error in RootListenersTracer.on_chain_end callback: ValueError()\n",
            "WARNING:langchain_core.callbacks.manager:Error in RootListenersTracer.on_chain_end callback: ValueError()\n",
            "WARNING:langchain_core.callbacks.manager:Error in callback coroutine: ValueError()\n"
          ]
        },
        {
          "name": "stdout",
          "output_type": "stream",
          "text": [
            "---GRADE: DOCUMENT RELEVANT---\n"
          ]
        },
        {
          "name": "stderr",
          "output_type": "stream",
          "text": [
            "WARNING:langchain_core.callbacks.manager:Error in RootListenersTracer.on_chain_end callback: ValueError()\n",
            "WARNING:langchain_core.callbacks.manager:Error in RootListenersTracer.on_chain_end callback: KeyError('message_history')\n",
            "WARNING:langchain_core.callbacks.manager:Error in callback coroutine: KeyError('message_history')\n",
            "WARNING:langchain_core.callbacks.manager:Error in RootListenersTracer.on_chain_end callback: ValueError()\n",
            "WARNING:langchain_core.callbacks.manager:Error in callback coroutine: ValueError()\n"
          ]
        },
        {
          "name": "stdout",
          "output_type": "stream",
          "text": [
            "---GRADE: DOCUMENT RELEVANT---\n"
          ]
        },
        {
          "name": "stderr",
          "output_type": "stream",
          "text": [
            "WARNING:langchain_core.callbacks.manager:Error in RootListenersTracer.on_chain_end callback: ValueError()\n",
            "WARNING:langchain_core.callbacks.manager:Error in RootListenersTracer.on_chain_end callback: KeyError('message_history')\n",
            "WARNING:langchain_core.callbacks.manager:Error in callback coroutine: KeyError('message_history')\n",
            "WARNING:langchain_core.callbacks.manager:Error in RootListenersTracer.on_chain_end callback: ValueError()\n",
            "WARNING:langchain_core.callbacks.manager:Error in callback coroutine: ValueError()\n"
          ]
        },
        {
          "name": "stdout",
          "output_type": "stream",
          "text": [
            "---GRADE: DOCUMENT RELEVANT---\n"
          ]
        },
        {
          "name": "stderr",
          "output_type": "stream",
          "text": [
            "WARNING:langchain_core.callbacks.manager:Error in RootListenersTracer.on_chain_end callback: ValueError()\n",
            "WARNING:langchain_core.callbacks.manager:Error in RootListenersTracer.on_chain_end callback: KeyError('message_history')\n",
            "WARNING:langchain_core.callbacks.manager:Error in callback coroutine: KeyError('message_history')\n",
            "WARNING:langchain_core.callbacks.manager:Error in RootListenersTracer.on_chain_end callback: ValueError()\n",
            "WARNING:langchain_core.callbacks.manager:Error in callback coroutine: ValueError()\n"
          ]
        },
        {
          "name": "stdout",
          "output_type": "stream",
          "text": [
            "---GRADE: DOCUMENT RELEVANT---\n"
          ]
        },
        {
          "name": "stderr",
          "output_type": "stream",
          "text": [
            "WARNING:langchain_core.callbacks.manager:Error in RootListenersTracer.on_chain_end callback: ValueError()\n",
            "WARNING:langchain_core.callbacks.manager:Error in RootListenersTracer.on_chain_end callback: KeyError('message_history')\n",
            "WARNING:langchain_core.callbacks.manager:Error in callback coroutine: KeyError('message_history')\n",
            "WARNING:langchain_core.callbacks.manager:Error in RootListenersTracer.on_chain_end callback: ValueError()\n",
            "WARNING:langchain_core.callbacks.manager:Error in callback coroutine: ValueError()\n"
          ]
        },
        {
          "name": "stdout",
          "output_type": "stream",
          "text": [
            "---GRADE: DOCUMENT NOT RELEVANT---\n"
          ]
        },
        {
          "name": "stderr",
          "output_type": "stream",
          "text": [
            "WARNING:langchain_core.callbacks.manager:Error in RootListenersTracer.on_chain_end callback: ValueError()\n",
            "WARNING:langchain_core.callbacks.manager:Error in RootListenersTracer.on_chain_end callback: KeyError('message_history')\n",
            "WARNING:langchain_core.callbacks.manager:Error in callback coroutine: KeyError('message_history')\n",
            "WARNING:langchain_core.callbacks.manager:Error in RootListenersTracer.on_chain_end callback: ValueError()\n",
            "WARNING:langchain_core.callbacks.manager:Error in callback coroutine: ValueError()\n"
          ]
        },
        {
          "name": "stdout",
          "output_type": "stream",
          "text": [
            "---GRADE: DOCUMENT NOT RELEVANT---\n"
          ]
        },
        {
          "name": "stderr",
          "output_type": "stream",
          "text": [
            "WARNING:langchain_core.callbacks.manager:Error in RootListenersTracer.on_chain_end callback: ValueError()\n",
            "WARNING:langchain_core.callbacks.manager:Error in RootListenersTracer.on_chain_end callback: KeyError('message_history')\n",
            "WARNING:langchain_core.callbacks.manager:Error in callback coroutine: KeyError('message_history')\n",
            "WARNING:langchain_core.callbacks.manager:Error in RootListenersTracer.on_chain_end callback: ValueError()\n",
            "WARNING:langchain_core.callbacks.manager:Error in callback coroutine: ValueError()\n"
          ]
        },
        {
          "name": "stdout",
          "output_type": "stream",
          "text": [
            "---GRADE: DOCUMENT NOT RELEVANT---\n"
          ]
        },
        {
          "name": "stderr",
          "output_type": "stream",
          "text": [
            "WARNING:langchain_core.callbacks.manager:Error in RootListenersTracer.on_chain_end callback: ValueError()\n",
            "WARNING:langchain_core.callbacks.manager:Error in RootListenersTracer.on_chain_end callback: KeyError('message_history')\n",
            "WARNING:langchain_core.callbacks.manager:Error in callback coroutine: KeyError('message_history')\n",
            "WARNING:langchain_core.callbacks.manager:Error in RootListenersTracer.on_chain_end callback: ValueError()\n",
            "WARNING:langchain_core.callbacks.manager:Error in callback coroutine: ValueError()\n"
          ]
        },
        {
          "name": "stdout",
          "output_type": "stream",
          "text": [
            "---GRADE: DOCUMENT RELEVANT---\n"
          ]
        },
        {
          "name": "stderr",
          "output_type": "stream",
          "text": [
            "WARNING:langchain_core.callbacks.manager:Error in RootListenersTracer.on_chain_end callback: ValueError()\n",
            "WARNING:langchain_core.callbacks.manager:Error in RootListenersTracer.on_chain_end callback: KeyError('message_history')\n",
            "WARNING:langchain_core.callbacks.manager:Error in callback coroutine: KeyError('message_history')\n",
            "WARNING:langchain_core.callbacks.manager:Error in RootListenersTracer.on_chain_end callback: ValueError()\n",
            "WARNING:langchain_core.callbacks.manager:Error in callback coroutine: ValueError()\n"
          ]
        },
        {
          "name": "stdout",
          "output_type": "stream",
          "text": [
            "---GRADE: DOCUMENT RELEVANT---\n"
          ]
        },
        {
          "name": "stderr",
          "output_type": "stream",
          "text": [
            "WARNING:langchain_core.callbacks.manager:Error in RootListenersTracer.on_chain_end callback: ValueError()\n",
            "WARNING:langchain_core.callbacks.manager:Error in RootListenersTracer.on_chain_end callback: KeyError('message_history')\n",
            "WARNING:langchain_core.callbacks.manager:Error in callback coroutine: KeyError('message_history')\n",
            "WARNING:langchain_core.callbacks.manager:Error in RootListenersTracer.on_chain_end callback: ValueError()\n",
            "WARNING:langchain_core.callbacks.manager:Error in callback coroutine: ValueError()\n"
          ]
        },
        {
          "name": "stdout",
          "output_type": "stream",
          "text": [
            "---GRADE: DOCUMENT NOT RELEVANT---\n",
            "---ASSESS GRADED DOCUMENTS---\n",
            "---DECISION: GENERATE---\n",
            "\"Node 'grade_documents':\"\n",
            "{ 'documents': [ Document(metadata={'path': '/content/gdrive/MyDrive/BAB/Data/blender_manual_v420/render/cycles/object_settings/object_data.html', 'source': 'object_data.html'}, page_content='Object #', ref=ObjectRef(entity='mahmoudnoor-company', project='intro-example', name='Document', digest='kLe0xh3Y0yLPwfsZFCzCjhWGD3rRxQtvHIX1C57D5bI', extra=())),\n",
            "                 Document(metadata={'path': '/content/gdrive/MyDrive/BAB/Data/blender_manual_v420/render/eevee/object_settings/object_data.html', 'source': 'object_data.html'}, page_content='Object #', ref=ObjectRef(entity='mahmoudnoor-company', project='intro-example', name='Document', digest='ZpAu7wSiYWxk6bdYUkS5xba1wG9OF9XTYX4WFa3rfhM', extra=())),\n",
            "                 Document(metadata={'path': '/content/gdrive/MyDrive/BAB/Data/blender_manual_v420/grease_pencil/object.html', 'source': 'object.html'}, page_content='Object #', ref=ObjectRef(entity='mahmoudnoor-company', project='intro-example', name='Document', digest='TGs2WLT7xXNNatmb0kKs66xLDL6k8TYWtTXm7DLQAjs', extra=())),\n",
            "                 Document(metadata={'path': '/content/gdrive/MyDrive/BAB/Data/blender_manual_v420/scene_layout/object/types.html', 'source': 'types.html'}, page_content='Object Types # \\n \\n \\n Reference \\n \\n Mode : \\n \\n \\n Object Mode \\n \\n Menu : \\n \\n \\n Add \\n \\n Shortcut : \\n \\n \\n Shift - A \\n \\n \\n \\n New objects can be created with the  Add  menu in the 3D Viewport’s header. \\n \\n Mesh \\n \\n Objects composed of vertices, edges and polygonal faces\\nand can be edited extensively with Blender’s mesh editing tools.\\nSee  Mesh Primitives . \\n \\n Curve \\n \\n Mathematically defined objects which can be manipulated with control handles', ref=ObjectRef(entity='mahmoudnoor-company', project='intro-example', name='Document', digest='W5zHs8CJdCuaFTOMQXVQCART67dpdVhE7L0o6uAfnOI', extra=())),\n",
            "                 Document(metadata={'path': '/content/gdrive/MyDrive/BAB/Data/blender_manual_v420/modeling/meshes/primitives.html', 'source': 'primitives.html'}, page_content='Cube # \\n \\n A standard cube contains eight vertices, twelve edges, and six faces,\\nand is a three-dimensional object. Objects that can be created out of cubes include dice,\\nboxes, or crates.', ref=ObjectRef(entity='mahmoudnoor-company', project='intro-example', name='Document', digest='aPXFZ9FasvVochIiGJJ8w64s0LXYDkhAXYKNqi05bY0', extra=())),\n",
            "                 Document(metadata={'path': '/content/gdrive/MyDrive/BAB/Data/blender_manual_v420/editors/preferences/editing.html', 'source': 'editing.html'}, page_content='Objects # \\n \\n \\n New Objects # \\n \\n \\n Link Materials To \\n \\n To understand this option properly, you need to understand how Blender works with Objects.\\nAlmost everything in Blender is organized in a hierarchy of data-blocks.\\nA data-block can be thought of as containers for certain pieces of information. For example,\\nthe Object data-block contains information about the Object’s location, rotation, and scale\\nwhile the associated linked Object Data data-block contains information about the mesh.', ref=ObjectRef(entity='mahmoudnoor-company', project='intro-example', name='Document', digest='VvBvq6ybzo5ShIhXIb2bmV9dv6yqqeK4KoYvEaAxcBI', extra=()))],\n",
            "  'history': [],\n",
            "  'iterations': 0,\n",
            "  'question': 'what to create an object?',\n",
            "  'session_id': '1'}\n",
            "'\\n---\\n'\n",
            "---GENERATE---\n",
            "---CHECK HALLUCINATIONS---\n"
          ]
        },
        {
          "name": "stderr",
          "output_type": "stream",
          "text": [
            "WARNING:langchain_core.callbacks.manager:Error in RootListenersTracer.on_chain_end callback: KeyError('question')\n",
            "WARNING:langchain_core.callbacks.manager:Error in callback coroutine: KeyError('question')\n",
            "WARNING:langchain_core.callbacks.manager:Error in RootListenersTracer.on_chain_end callback: KeyError('question')\n",
            "WARNING:langchain_core.callbacks.manager:Error in RootListenersTracer.on_chain_end callback: ValueError()\n",
            "WARNING:langchain_core.callbacks.manager:Error in callback coroutine: ValueError()\n"
          ]
        },
        {
          "name": "stdout",
          "output_type": "stream",
          "text": [
            "---GRADE GENERATION vs QUESTION---\n"
          ]
        },
        {
          "name": "stderr",
          "output_type": "stream",
          "text": [
            "WARNING:langchain_core.callbacks.manager:Error in RootListenersTracer.on_chain_end callback: ValueError()\n",
            "WARNING:langchain_core.callbacks.manager:Error in RootListenersTracer.on_chain_end callback: KeyError('message_history')\n",
            "WARNING:langchain_core.callbacks.manager:Error in callback coroutine: KeyError('message_history')\n"
          ]
        },
        {
          "name": "stdout",
          "output_type": "stream",
          "text": [
            "---DECISION: GENERATION ADDRESSES QUESTION---\n",
            "\"Node 'generate':\"\n",
            "{ 'documents': [ Document(metadata={'path': '/content/gdrive/MyDrive/BAB/Data/blender_manual_v420/render/cycles/object_settings/object_data.html', 'source': 'object_data.html'}, page_content='Object #', ref=ObjectRef(entity='mahmoudnoor-company', project='intro-example', name='Document', digest='kLe0xh3Y0yLPwfsZFCzCjhWGD3rRxQtvHIX1C57D5bI', extra=())),\n",
            "                 Document(metadata={'path': '/content/gdrive/MyDrive/BAB/Data/blender_manual_v420/render/eevee/object_settings/object_data.html', 'source': 'object_data.html'}, page_content='Object #', ref=ObjectRef(entity='mahmoudnoor-company', project='intro-example', name='Document', digest='ZpAu7wSiYWxk6bdYUkS5xba1wG9OF9XTYX4WFa3rfhM', extra=())),\n",
            "                 Document(metadata={'path': '/content/gdrive/MyDrive/BAB/Data/blender_manual_v420/grease_pencil/object.html', 'source': 'object.html'}, page_content='Object #', ref=ObjectRef(entity='mahmoudnoor-company', project='intro-example', name='Document', digest='TGs2WLT7xXNNatmb0kKs66xLDL6k8TYWtTXm7DLQAjs', extra=())),\n",
            "                 Document(metadata={'path': '/content/gdrive/MyDrive/BAB/Data/blender_manual_v420/scene_layout/object/types.html', 'source': 'types.html'}, page_content='Object Types # \\n \\n \\n Reference \\n \\n Mode : \\n \\n \\n Object Mode \\n \\n Menu : \\n \\n \\n Add \\n \\n Shortcut : \\n \\n \\n Shift - A \\n \\n \\n \\n New objects can be created with the  Add  menu in the 3D Viewport’s header. \\n \\n Mesh \\n \\n Objects composed of vertices, edges and polygonal faces\\nand can be edited extensively with Blender’s mesh editing tools.\\nSee  Mesh Primitives . \\n \\n Curve \\n \\n Mathematically defined objects which can be manipulated with control handles', ref=ObjectRef(entity='mahmoudnoor-company', project='intro-example', name='Document', digest='W5zHs8CJdCuaFTOMQXVQCART67dpdVhE7L0o6uAfnOI', extra=())),\n",
            "                 Document(metadata={'path': '/content/gdrive/MyDrive/BAB/Data/blender_manual_v420/modeling/meshes/primitives.html', 'source': 'primitives.html'}, page_content='Cube # \\n \\n A standard cube contains eight vertices, twelve edges, and six faces,\\nand is a three-dimensional object. Objects that can be created out of cubes include dice,\\nboxes, or crates.', ref=ObjectRef(entity='mahmoudnoor-company', project='intro-example', name='Document', digest='aPXFZ9FasvVochIiGJJ8w64s0LXYDkhAXYKNqi05bY0', extra=())),\n",
            "                 Document(metadata={'path': '/content/gdrive/MyDrive/BAB/Data/blender_manual_v420/editors/preferences/editing.html', 'source': 'editing.html'}, page_content='Objects # \\n \\n \\n New Objects # \\n \\n \\n Link Materials To \\n \\n To understand this option properly, you need to understand how Blender works with Objects.\\nAlmost everything in Blender is organized in a hierarchy of data-blocks.\\nA data-block can be thought of as containers for certain pieces of information. For example,\\nthe Object data-block contains information about the Object’s location, rotation, and scale\\nwhile the associated linked Object Data data-block contains information about the mesh.', ref=ObjectRef(entity='mahmoudnoor-company', project='intro-example', name='Document', digest='VvBvq6ybzo5ShIhXIb2bmV9dv6yqqeK4KoYvEaAxcBI', extra=()))],\n",
            "  'generation': 'To create an object in Blender, follow these steps:\\n'\n",
            "                '\\n'\n",
            "                '1. Open Blender: First, you need to open Blender on your '\n",
            "                \"computer. If you haven't installed it yet, download and \"\n",
            "                'install it from the official Blender website.\\n'\n",
            "                '\\n'\n",
            "                '2. Select the Workspace: Once Blender is open, select the '\n",
            "                \"workspace you want to use. For creating 3D objects, you'll \"\n",
            "                'typically use the \"Layout\" workspace.\\n'\n",
            "                '\\n'\n",
            "                '3. Create a New Object: To create a new object, go to the '\n",
            "                '\"Add\" menu in the 3D Viewport\\'s header. You can access this '\n",
            "                'by clicking on the \"Add\" button or pressing Shift + A on your '\n",
            "                'keyboard.\\n'\n",
            "                '\\n'\n",
            "                '4. Choose the Object Type: In the \"Add\" menu, you\\'ll find '\n",
            "                'various options for different types of objects, such as Mesh, '\n",
            "                'Curve, Surface, and more. Select the type of object you want '\n",
            "                'to create.\\n'\n",
            "                '\\n'\n",
            "                '5. Customize the Object: Depending on the object type you '\n",
            "                'chose, you may have options to customize it further. For '\n",
            "                'example, if you chose a mesh object, you can specify the '\n",
            "                'number of vertices, edges, and faces.\\n'\n",
            "                '\\n'\n",
            "                \"6. Enter Edit Mode: Once you've created the object, you can \"\n",
            "                'enter Edit Mode to modify its shape and structure. In Edit '\n",
            "                'Mode, you can select and manipulate individual vertices, '\n",
            "                'edges, and faces.\\n'\n",
            "                '\\n'\n",
            "                '7. Use Various Tools and Techniques: Blender offers a wide '\n",
            "                'range of tools and techniques to help you shape and refine '\n",
            "                'your 3D object. You can use extrusions, loops, cuts, and '\n",
            "                'other methods to achieve the desired shape.\\n'\n",
            "                '\\n'\n",
            "                '8. Save Your Work: Finally, save your 3D object by going to '\n",
            "                'File > Save As and choosing a location to save your file.\\n'\n",
            "                '\\n'\n",
            "                \"That's a basic overview of how to create an object in \"\n",
            "                \"Blender. Of course, there's much more to explore in Blender, \"\n",
            "                'but this should give you a good starting point!',\n",
            "  'history': [ 'Bot: To create an object in Blender, follow these steps:\\n'\n",
            "               '\\n'\n",
            "               '1. Open Blender: First, you need to open Blender on your '\n",
            "               \"computer. If you haven't installed it yet, download and \"\n",
            "               'install it from the official Blender website.\\n'\n",
            "               '\\n'\n",
            "               '2. Select the Workspace: Once Blender is open, select the '\n",
            "               \"workspace you want to use. For creating 3D objects, you'll \"\n",
            "               'typically use the \"Layout\" workspace.\\n'\n",
            "               '\\n'\n",
            "               '3. Create a New Object: To create a new object, go to the '\n",
            "               '\"Add\" menu in the 3D Viewport\\'s header. You can access this '\n",
            "               'by clicking on the \"Add\" button or pressing Shift + A on your '\n",
            "               'keyboard.\\n'\n",
            "               '\\n'\n",
            "               '4. Choose the Object Type: In the \"Add\" menu, you\\'ll find '\n",
            "               'various options for different types of objects, such as Mesh, '\n",
            "               'Curve, Surface, and more. Select the type of object you want '\n",
            "               'to create.\\n'\n",
            "               '\\n'\n",
            "               '5. Customize the Object: Depending on the object type you '\n",
            "               'chose, you may have options to customize it further. For '\n",
            "               'example, if you chose a mesh object, you can specify the '\n",
            "               'number of vertices, edges, and faces.\\n'\n",
            "               '\\n'\n",
            "               \"6. Enter Edit Mode: Once you've created the object, you can \"\n",
            "               'enter Edit Mode to modify its shape and structure. In Edit '\n",
            "               'Mode, you can select and manipulate individual vertices, '\n",
            "               'edges, and faces.\\n'\n",
            "               '\\n'\n",
            "               '7. Use Various Tools and Techniques: Blender offers a wide '\n",
            "               'range of tools and techniques to help you shape and refine '\n",
            "               'your 3D object. You can use extrusions, loops, cuts, and other '\n",
            "               'methods to achieve the desired shape.\\n'\n",
            "               '\\n'\n",
            "               '8. Save Your Work: Finally, save your 3D object by going to '\n",
            "               'File > Save As and choosing a location to save your file.\\n'\n",
            "               '\\n'\n",
            "               \"That's a basic overview of how to create an object in Blender. \"\n",
            "               \"Of course, there's much more to explore in Blender, but this \"\n",
            "               'should give you a good starting point!'],\n",
            "  'iterations': 0,\n",
            "  'question': 'what to create an object?',\n",
            "  'session_id': '1'}\n",
            "'\\n---\\n'\n",
            "('To create an object in Blender, follow these steps:\\n'\n",
            " '\\n'\n",
            " '1. Open Blender: First, you need to open Blender on your computer. If you '\n",
            " \"haven't installed it yet, download and install it from the official Blender \"\n",
            " 'website.\\n'\n",
            " '\\n'\n",
            " '2. Select the Workspace: Once Blender is open, select the workspace you want '\n",
            " 'to use. For creating 3D objects, you\\'ll typically use the \"Layout\" '\n",
            " 'workspace.\\n'\n",
            " '\\n'\n",
            " '3. Create a New Object: To create a new object, go to the \"Add\" menu in the '\n",
            " '3D Viewport\\'s header. You can access this by clicking on the \"Add\" button '\n",
            " 'or pressing Shift + A on your keyboard.\\n'\n",
            " '\\n'\n",
            " '4. Choose the Object Type: In the \"Add\" menu, you\\'ll find various options '\n",
            " 'for different types of objects, such as Mesh, Curve, Surface, and more. '\n",
            " 'Select the type of object you want to create.\\n'\n",
            " '\\n'\n",
            " '5. Customize the Object: Depending on the object type you chose, you may '\n",
            " 'have options to customize it further. For example, if you chose a mesh '\n",
            " 'object, you can specify the number of vertices, edges, and faces.\\n'\n",
            " '\\n'\n",
            " \"6. Enter Edit Mode: Once you've created the object, you can enter Edit Mode \"\n",
            " 'to modify its shape and structure. In Edit Mode, you can select and '\n",
            " 'manipulate individual vertices, edges, and faces.\\n'\n",
            " '\\n'\n",
            " '7. Use Various Tools and Techniques: Blender offers a wide range of tools '\n",
            " 'and techniques to help you shape and refine your 3D object. You can use '\n",
            " 'extrusions, loops, cuts, and other methods to achieve the desired shape.\\n'\n",
            " '\\n'\n",
            " '8. Save Your Work: Finally, save your 3D object by going to File > Save As '\n",
            " 'and choosing a location to save your file.\\n'\n",
            " '\\n'\n",
            " \"That's a basic overview of how to create an object in Blender. Of course, \"\n",
            " \"there's much more to explore in Blender, but this should give you a good \"\n",
            " 'starting point!')\n",
            "---ASSESS UNSAFE QUERY---\n",
            "---ASSESSMENT SAFE---\n",
            "\"Node 'check_input':\"\n",
            "None\n",
            "'\\n---\\n'\n",
            "---RETRIEVE---\n"
          ]
        },
        {
          "name": "stderr",
          "output_type": "stream",
          "text": [
            "WARNING:langchain_core.callbacks.manager:Error in RootListenersTracer.on_chain_end callback: ValueError()\n",
            "WARNING:langchain_core.callbacks.manager:Error in callback coroutine: ValueError()\n"
          ]
        },
        {
          "name": "stdout",
          "output_type": "stream",
          "text": [
            "\"Node 'retrieve':\"\n",
            "{ 'documents': [ Document(metadata={'path': '/content/gdrive/MyDrive/BAB/Data/blender_manual_v420/modeling/meshes/primitives.html', 'source': 'primitives.html'}, page_content='Cube # \\n \\n A standard cube contains eight vertices, twelve edges, and six faces,\\nand is a three-dimensional object. Objects that can be created out of cubes include dice,\\nboxes, or crates.', ref=ObjectRef(entity='mahmoudnoor-company', project='intro-example', name='Document', digest='aPXFZ9FasvVochIiGJJ8w64s0LXYDkhAXYKNqi05bY0', extra=())),\n",
            "                 Document(metadata={'path': '/content/gdrive/MyDrive/BAB/Data/blender_manual_v420/modeling/geometry_nodes/mesh/primitives/cube.html', 'source': 'cube.html'}, page_content='Cube Node # \\n \\n \\n \\n \\n The  Cube  node generates a cuboid mesh with variable side lengths and subdivisions.\\nThe inside of the mesh is still hollow like a normal cube.', ref=ObjectRef(entity='mahmoudnoor-company', project='intro-example', name='Document', digest='zqrvaBxaeBdeWwUqqOxxChwpqaJtbPHLlNh46I0Y2fU', extra=())),\n",
            "                 Document(metadata={'path': '/content/gdrive/MyDrive/BAB/Data/blender_manual_v420/modeling/geometry_nodes/volume/primitives/index.html', 'source': 'index.html'}, page_content='Volume Primitive Nodes # \\n \\n \\n \\n Volume Cube Node', ref=ObjectRef(entity='mahmoudnoor-company', project='intro-example', name='Document', digest='xipJ58JRUMnA0jfz4scnZmXXFEniuuotXcxmJOJaFkg', extra=())),\n",
            "                 Document(metadata={'path': '/content/gdrive/MyDrive/BAB/Data/blender_manual_v420/editors/3dview/toolbar/add_cube.html', 'source': 'add_cube.html'}, page_content='Add Cube # \\n \\n \\n Reference \\n \\n Mode : \\n \\n \\n Object Mode and Edit Mode \\n \\n Tool : \\n \\n \\n Toolbar ‣ Add Cube \\n \\n \\n \\n Interactively add a  cube mesh object .', ref=ObjectRef(entity='mahmoudnoor-company', project='intro-example', name='Document', digest='xaBLAKDla84MYEtDyoCQMK3qCX9ffTaH7Z2W6EPrZYs', extra=())),\n",
            "                 Document(metadata={'path': '/content/gdrive/MyDrive/BAB/Data/blender_manual_v420/physics/soft_body/examples.html', 'source': 'examples.html'}, page_content='A Bouncing Cube # \\n \\n \\n The Process # \\n \\n First, change your start and end frames to 1 and 150. \\n Then, add a plane, and scale it five times. Next, go to the physics tab, and add a collision.\\nThe default settings are fine for this example. \\n Now add a cube, or use the default cube, then enter  Edit Mode  to subdivide it three times.\\nAdd a Bevel Modifier to it to smoothen the edges and then to add a little more,\\npress  R  twice, and move your cursor a bit.', ref=ObjectRef(entity='mahmoudnoor-company', project='intro-example', name='Document', digest='6mlaxZI1RDZGnyLdERdfnsImCnXmYIP0UXqlpQZrieo', extra=())),\n",
            "                 Document(metadata={'path': '/content/gdrive/MyDrive/BAB/Data/blender_manual_v420/modeling/empties.html', 'source': 'empties.html'}, page_content='Cube # \\n \\n Displays as a cube, initially aligned to the XYZ axes. \\n \\n \\n Sphere # \\n \\n Displays as an implied sphere defined by three circles.\\nInitially, the circles are aligned, one each, to the X, Y, and Z axes. \\n \\n \\n Cone # \\n \\n Displays as a cone, initially pointing in the +Y axis direction. \\n \\n \\n Image # \\n \\n Empties can display images. This can be used to create reference images,\\nincluding blueprints or character sheets to model from.', ref=ObjectRef(entity='mahmoudnoor-company', project='intro-example', name='Document', digest='kMs22AadbQvCIciOqLG1ajM2iLQrZcdaFSxvul3N5bc', extra=())),\n",
            "                 Document(metadata={'path': '/content/gdrive/MyDrive/BAB/Data/blender_manual_v420/editors/3dview/startup_scene.html', 'source': 'startup_scene.html'}, page_content='Elements # \\n \\n \\n Cube \\n \\n The gray cube in the center of the scene is a  mesh  object.\\nIts orange outline indicates that it’s selected.\\nThe orange dot in the center is its  Origin ,\\nwhich indicates its precise location. \\n \\n Light \\n \\n The set of concentric black circles is a  light source \\nilluminating the cube. \\n \\n Camera \\n \\n The pyramid with a big triangle above it is the  camera ,\\nwhich is used as the point of view for rendering. \\n \\n 3D Cursor', ref=ObjectRef(entity='mahmoudnoor-company', project='intro-example', name='Document', digest='j9CW7sKdJ0AlYTh2VELya29AMyg2svYuIlxYbrqgDZk', extra=())),\n",
            "                 Document(metadata={'path': '/content/gdrive/MyDrive/BAB/Data/blender_manual_v420/physics/soft_body/forces/interior.html', 'source': 'interior.html'}, page_content='Frame 401. # \\n \\n \\n \\n \\n \\n \\n \\n Both cubes keep their shape. Now, we try the same thing with subdivided planes,\\nagain a quad-based one and a triangulated one: \\n \\n \\n \\n \\n \\n \\n \\n \\n Two planes falling. # \\n \\n \\n \\n \\n \\n \\n \\n No bending stiffness. # \\n \\n \\n \\n \\n \\n \\n \\n High bending stiffness (10). # \\n \\n \\n \\n \\n \\n \\n \\n Without any  Bending Stiffness , the faces can rotate freely as though their edges were hinges.\\nEnabling  Stiffness  to add diagional springs would not change this (just as triangulating doesn’t).', ref=ObjectRef(entity='mahmoudnoor-company', project='intro-example', name='Document', digest='ffiauN5bjOT81K1QmFwVHFHORY0Igx7sUd4xiohCG0I', extra=())),\n",
            "                 Document(metadata={'path': '/content/gdrive/MyDrive/BAB/Data/blender_manual_v420/modeling/meshes/editing/uv.html', 'source': 'uv.html'}, page_content='Cube Projection # \\n \\n \\n Reference \\n \\n Editor : \\n \\n \\n 3D Viewport \\n \\n Mode : \\n \\n \\n Edit Mode \\n \\n Menu : \\n \\n \\n UV ‣ Cube Projection \\n \\n Shortcut : \\n \\n \\n U \\n \\n \\n \\n Cube Projection maps the mesh onto the faces of a cube, which is then unfolded.\\nIt projects the mesh onto six separate planes, creating six UV islands.\\nIn the UV editor, these will appear overlapped, but can be moved.\\nSee  Editing UVs . \\n \\n Options # \\n \\n \\n Cube Size \\n \\n Set the size of the cube to be projected onto. \\n \\n Correct Aspect', ref=ObjectRef(entity='mahmoudnoor-company', project='intro-example', name='Document', digest='L67gVZXXUAtbHD2E6KF9zH49PpCBCQ9eMnZEzYlcUCo', extra=())),\n",
            "                 Document(metadata={'path': '/content/gdrive/MyDrive/BAB/Data/blender_manual_v420/modeling/modifiers/introduction.html', 'source': 'introduction.html'}, page_content='Example # \\n \\n \\n \\n \\n In this example a simple subdivided cube has been transformed into a rather complex object using\\na stack of modifiers. # \\n \\n \\n Download example file .', ref=ObjectRef(entity='mahmoudnoor-company', project='intro-example', name='Document', digest='RWuczXXzkdhmtZO6PHgXRVxGuW7jWPoEfB66XHCBDSQ', extra=()))],\n",
            "  'history': [],\n",
            "  'iterations': 0,\n",
            "  'question': 'What about a cube?',\n",
            "  'session_id': '1'}\n",
            "'\\n---\\n'\n",
            "---CHECK DOCUMENT RELEVANCE TO QUESTION---\n"
          ]
        },
        {
          "name": "stderr",
          "output_type": "stream",
          "text": [
            "WARNING:langchain_core.callbacks.manager:Error in RootListenersTracer.on_chain_end callback: ValueError()\n",
            "WARNING:langchain_core.callbacks.manager:Error in RootListenersTracer.on_chain_end callback: ValueError()\n",
            "WARNING:langchain_core.callbacks.manager:Error in callback coroutine: ValueError()\n"
          ]
        },
        {
          "name": "stdout",
          "output_type": "stream",
          "text": [
            "---GRADE: DOCUMENT RELEVANT---\n"
          ]
        },
        {
          "name": "stderr",
          "output_type": "stream",
          "text": [
            "WARNING:langchain_core.callbacks.manager:Error in RootListenersTracer.on_chain_end callback: ValueError()\n",
            "WARNING:langchain_core.callbacks.manager:Error in RootListenersTracer.on_chain_end callback: KeyError('message_history')\n",
            "WARNING:langchain_core.callbacks.manager:Error in callback coroutine: KeyError('message_history')\n",
            "WARNING:langchain_core.callbacks.manager:Error in RootListenersTracer.on_chain_end callback: ValueError()\n",
            "WARNING:langchain_core.callbacks.manager:Error in callback coroutine: ValueError()\n"
          ]
        },
        {
          "name": "stdout",
          "output_type": "stream",
          "text": [
            "---GRADE: DOCUMENT RELEVANT---\n"
          ]
        },
        {
          "name": "stderr",
          "output_type": "stream",
          "text": [
            "WARNING:langchain_core.callbacks.manager:Error in RootListenersTracer.on_chain_end callback: ValueError()\n",
            "WARNING:langchain_core.callbacks.manager:Error in RootListenersTracer.on_chain_end callback: KeyError('message_history')\n",
            "WARNING:langchain_core.callbacks.manager:Error in callback coroutine: KeyError('message_history')\n",
            "WARNING:langchain_core.callbacks.manager:Error in RootListenersTracer.on_chain_end callback: ValueError()\n",
            "WARNING:langchain_core.callbacks.manager:Error in callback coroutine: ValueError()\n"
          ]
        },
        {
          "name": "stdout",
          "output_type": "stream",
          "text": [
            "---GRADE: DOCUMENT RELEVANT---\n"
          ]
        },
        {
          "name": "stderr",
          "output_type": "stream",
          "text": [
            "WARNING:langchain_core.callbacks.manager:Error in RootListenersTracer.on_chain_end callback: ValueError()\n",
            "WARNING:langchain_core.callbacks.manager:Error in RootListenersTracer.on_chain_end callback: KeyError('message_history')\n",
            "WARNING:langchain_core.callbacks.manager:Error in callback coroutine: KeyError('message_history')\n",
            "WARNING:langchain_core.callbacks.manager:Error in RootListenersTracer.on_chain_end callback: ValueError()\n",
            "WARNING:langchain_core.callbacks.manager:Error in callback coroutine: ValueError()\n"
          ]
        },
        {
          "name": "stdout",
          "output_type": "stream",
          "text": [
            "---GRADE: DOCUMENT RELEVANT---\n"
          ]
        },
        {
          "name": "stderr",
          "output_type": "stream",
          "text": [
            "WARNING:langchain_core.callbacks.manager:Error in RootListenersTracer.on_chain_end callback: ValueError()\n",
            "WARNING:langchain_core.callbacks.manager:Error in RootListenersTracer.on_chain_end callback: KeyError('message_history')\n",
            "WARNING:langchain_core.callbacks.manager:Error in callback coroutine: KeyError('message_history')\n",
            "WARNING:langchain_core.callbacks.manager:Error in RootListenersTracer.on_chain_end callback: ValueError()\n",
            "WARNING:langchain_core.callbacks.manager:Error in callback coroutine: ValueError()\n"
          ]
        },
        {
          "name": "stdout",
          "output_type": "stream",
          "text": [
            "---GRADE: DOCUMENT RELEVANT---\n"
          ]
        },
        {
          "name": "stderr",
          "output_type": "stream",
          "text": [
            "WARNING:langchain_core.callbacks.manager:Error in RootListenersTracer.on_chain_end callback: ValueError()\n",
            "WARNING:langchain_core.callbacks.manager:Error in RootListenersTracer.on_chain_end callback: KeyError('message_history')\n",
            "WARNING:langchain_core.callbacks.manager:Error in callback coroutine: KeyError('message_history')\n",
            "WARNING:langchain_core.callbacks.manager:Error in RootListenersTracer.on_chain_end callback: ValueError()\n",
            "WARNING:langchain_core.callbacks.manager:Error in callback coroutine: ValueError()\n"
          ]
        },
        {
          "name": "stdout",
          "output_type": "stream",
          "text": [
            "---GRADE: DOCUMENT RELEVANT---\n"
          ]
        },
        {
          "name": "stderr",
          "output_type": "stream",
          "text": [
            "WARNING:langchain_core.callbacks.manager:Error in RootListenersTracer.on_chain_end callback: ValueError()\n",
            "WARNING:langchain_core.callbacks.manager:Error in RootListenersTracer.on_chain_end callback: KeyError('message_history')\n",
            "WARNING:langchain_core.callbacks.manager:Error in callback coroutine: KeyError('message_history')\n",
            "WARNING:langchain_core.callbacks.manager:Error in RootListenersTracer.on_chain_end callback: ValueError()\n",
            "WARNING:langchain_core.callbacks.manager:Error in callback coroutine: ValueError()\n"
          ]
        },
        {
          "name": "stdout",
          "output_type": "stream",
          "text": [
            "---GRADE: DOCUMENT RELEVANT---\n"
          ]
        },
        {
          "name": "stderr",
          "output_type": "stream",
          "text": [
            "WARNING:langchain_core.callbacks.manager:Error in RootListenersTracer.on_chain_end callback: ValueError()\n",
            "WARNING:langchain_core.callbacks.manager:Error in RootListenersTracer.on_chain_end callback: KeyError('message_history')\n",
            "WARNING:langchain_core.callbacks.manager:Error in callback coroutine: KeyError('message_history')\n",
            "WARNING:langchain_core.callbacks.manager:Error in RootListenersTracer.on_chain_end callback: ValueError()\n",
            "WARNING:langchain_core.callbacks.manager:Error in callback coroutine: ValueError()\n"
          ]
        },
        {
          "name": "stdout",
          "output_type": "stream",
          "text": [
            "---GRADE: DOCUMENT NOT RELEVANT---\n"
          ]
        },
        {
          "name": "stderr",
          "output_type": "stream",
          "text": [
            "WARNING:langchain_core.callbacks.manager:Error in RootListenersTracer.on_chain_end callback: ValueError()\n",
            "WARNING:langchain_core.callbacks.manager:Error in RootListenersTracer.on_chain_end callback: KeyError('message_history')\n",
            "WARNING:langchain_core.callbacks.manager:Error in callback coroutine: KeyError('message_history')\n",
            "WARNING:langchain_core.callbacks.manager:Error in RootListenersTracer.on_chain_end callback: ValueError()\n",
            "WARNING:langchain_core.callbacks.manager:Error in callback coroutine: ValueError()\n"
          ]
        },
        {
          "name": "stdout",
          "output_type": "stream",
          "text": [
            "---GRADE: DOCUMENT RELEVANT---\n"
          ]
        },
        {
          "name": "stderr",
          "output_type": "stream",
          "text": [
            "WARNING:langchain_core.callbacks.manager:Error in RootListenersTracer.on_chain_end callback: ValueError()\n",
            "WARNING:langchain_core.callbacks.manager:Error in RootListenersTracer.on_chain_end callback: KeyError('message_history')\n",
            "WARNING:langchain_core.callbacks.manager:Error in callback coroutine: KeyError('message_history')\n",
            "WARNING:langchain_core.callbacks.manager:Error in RootListenersTracer.on_chain_end callback: ValueError()\n",
            "WARNING:langchain_core.callbacks.manager:Error in callback coroutine: ValueError()\n"
          ]
        },
        {
          "name": "stdout",
          "output_type": "stream",
          "text": [
            "---GRADE: DOCUMENT RELEVANT---\n",
            "---ASSESS GRADED DOCUMENTS---\n",
            "---DECISION: GENERATE---\n",
            "\"Node 'grade_documents':\"\n",
            "{ 'documents': [ Document(metadata={'path': '/content/gdrive/MyDrive/BAB/Data/blender_manual_v420/modeling/meshes/primitives.html', 'source': 'primitives.html'}, page_content='Cube # \\n \\n A standard cube contains eight vertices, twelve edges, and six faces,\\nand is a three-dimensional object. Objects that can be created out of cubes include dice,\\nboxes, or crates.', ref=ObjectRef(entity='mahmoudnoor-company', project='intro-example', name='Document', digest='aPXFZ9FasvVochIiGJJ8w64s0LXYDkhAXYKNqi05bY0', extra=())),\n",
            "                 Document(metadata={'path': '/content/gdrive/MyDrive/BAB/Data/blender_manual_v420/modeling/geometry_nodes/mesh/primitives/cube.html', 'source': 'cube.html'}, page_content='Cube Node # \\n \\n \\n \\n \\n The  Cube  node generates a cuboid mesh with variable side lengths and subdivisions.\\nThe inside of the mesh is still hollow like a normal cube.', ref=ObjectRef(entity='mahmoudnoor-company', project='intro-example', name='Document', digest='zqrvaBxaeBdeWwUqqOxxChwpqaJtbPHLlNh46I0Y2fU', extra=())),\n",
            "                 Document(metadata={'path': '/content/gdrive/MyDrive/BAB/Data/blender_manual_v420/modeling/geometry_nodes/volume/primitives/index.html', 'source': 'index.html'}, page_content='Volume Primitive Nodes # \\n \\n \\n \\n Volume Cube Node', ref=ObjectRef(entity='mahmoudnoor-company', project='intro-example', name='Document', digest='xipJ58JRUMnA0jfz4scnZmXXFEniuuotXcxmJOJaFkg', extra=())),\n",
            "                 Document(metadata={'path': '/content/gdrive/MyDrive/BAB/Data/blender_manual_v420/editors/3dview/toolbar/add_cube.html', 'source': 'add_cube.html'}, page_content='Add Cube # \\n \\n \\n Reference \\n \\n Mode : \\n \\n \\n Object Mode and Edit Mode \\n \\n Tool : \\n \\n \\n Toolbar ‣ Add Cube \\n \\n \\n \\n Interactively add a  cube mesh object .', ref=ObjectRef(entity='mahmoudnoor-company', project='intro-example', name='Document', digest='xaBLAKDla84MYEtDyoCQMK3qCX9ffTaH7Z2W6EPrZYs', extra=())),\n",
            "                 Document(metadata={'path': '/content/gdrive/MyDrive/BAB/Data/blender_manual_v420/physics/soft_body/examples.html', 'source': 'examples.html'}, page_content='A Bouncing Cube # \\n \\n \\n The Process # \\n \\n First, change your start and end frames to 1 and 150. \\n Then, add a plane, and scale it five times. Next, go to the physics tab, and add a collision.\\nThe default settings are fine for this example. \\n Now add a cube, or use the default cube, then enter  Edit Mode  to subdivide it three times.\\nAdd a Bevel Modifier to it to smoothen the edges and then to add a little more,\\npress  R  twice, and move your cursor a bit.', ref=ObjectRef(entity='mahmoudnoor-company', project='intro-example', name='Document', digest='6mlaxZI1RDZGnyLdERdfnsImCnXmYIP0UXqlpQZrieo', extra=())),\n",
            "                 Document(metadata={'path': '/content/gdrive/MyDrive/BAB/Data/blender_manual_v420/modeling/empties.html', 'source': 'empties.html'}, page_content='Cube # \\n \\n Displays as a cube, initially aligned to the XYZ axes. \\n \\n \\n Sphere # \\n \\n Displays as an implied sphere defined by three circles.\\nInitially, the circles are aligned, one each, to the X, Y, and Z axes. \\n \\n \\n Cone # \\n \\n Displays as a cone, initially pointing in the +Y axis direction. \\n \\n \\n Image # \\n \\n Empties can display images. This can be used to create reference images,\\nincluding blueprints or character sheets to model from.', ref=ObjectRef(entity='mahmoudnoor-company', project='intro-example', name='Document', digest='kMs22AadbQvCIciOqLG1ajM2iLQrZcdaFSxvul3N5bc', extra=())),\n",
            "                 Document(metadata={'path': '/content/gdrive/MyDrive/BAB/Data/blender_manual_v420/editors/3dview/startup_scene.html', 'source': 'startup_scene.html'}, page_content='Elements # \\n \\n \\n Cube \\n \\n The gray cube in the center of the scene is a  mesh  object.\\nIts orange outline indicates that it’s selected.\\nThe orange dot in the center is its  Origin ,\\nwhich indicates its precise location. \\n \\n Light \\n \\n The set of concentric black circles is a  light source \\nilluminating the cube. \\n \\n Camera \\n \\n The pyramid with a big triangle above it is the  camera ,\\nwhich is used as the point of view for rendering. \\n \\n 3D Cursor', ref=ObjectRef(entity='mahmoudnoor-company', project='intro-example', name='Document', digest='j9CW7sKdJ0AlYTh2VELya29AMyg2svYuIlxYbrqgDZk', extra=())),\n",
            "                 Document(metadata={'path': '/content/gdrive/MyDrive/BAB/Data/blender_manual_v420/modeling/meshes/editing/uv.html', 'source': 'uv.html'}, page_content='Cube Projection # \\n \\n \\n Reference \\n \\n Editor : \\n \\n \\n 3D Viewport \\n \\n Mode : \\n \\n \\n Edit Mode \\n \\n Menu : \\n \\n \\n UV ‣ Cube Projection \\n \\n Shortcut : \\n \\n \\n U \\n \\n \\n \\n Cube Projection maps the mesh onto the faces of a cube, which is then unfolded.\\nIt projects the mesh onto six separate planes, creating six UV islands.\\nIn the UV editor, these will appear overlapped, but can be moved.\\nSee  Editing UVs . \\n \\n Options # \\n \\n \\n Cube Size \\n \\n Set the size of the cube to be projected onto. \\n \\n Correct Aspect', ref=ObjectRef(entity='mahmoudnoor-company', project='intro-example', name='Document', digest='L67gVZXXUAtbHD2E6KF9zH49PpCBCQ9eMnZEzYlcUCo', extra=())),\n",
            "                 Document(metadata={'path': '/content/gdrive/MyDrive/BAB/Data/blender_manual_v420/modeling/modifiers/introduction.html', 'source': 'introduction.html'}, page_content='Example # \\n \\n \\n \\n \\n In this example a simple subdivided cube has been transformed into a rather complex object using\\na stack of modifiers. # \\n \\n \\n Download example file .', ref=ObjectRef(entity='mahmoudnoor-company', project='intro-example', name='Document', digest='RWuczXXzkdhmtZO6PHgXRVxGuW7jWPoEfB66XHCBDSQ', extra=()))],\n",
            "  'history': [],\n",
            "  'iterations': 0,\n",
            "  'question': 'What about a cube?',\n",
            "  'session_id': '1'}\n",
            "'\\n---\\n'\n",
            "---GENERATE---\n",
            "---CHECK HALLUCINATIONS---\n"
          ]
        },
        {
          "name": "stderr",
          "output_type": "stream",
          "text": [
            "WARNING:langchain_core.callbacks.manager:Error in RootListenersTracer.on_chain_end callback: KeyError('question')\n",
            "WARNING:langchain_core.callbacks.manager:Error in callback coroutine: KeyError('question')\n",
            "WARNING:langchain_core.callbacks.manager:Error in RootListenersTracer.on_chain_end callback: KeyError('question')\n",
            "WARNING:langchain_core.callbacks.manager:Error in RootListenersTracer.on_chain_end callback: ValueError()\n",
            "WARNING:langchain_core.callbacks.manager:Error in callback coroutine: ValueError()\n"
          ]
        },
        {
          "name": "stdout",
          "output_type": "stream",
          "text": [
            "---GRADE GENERATION vs QUESTION---\n"
          ]
        },
        {
          "name": "stderr",
          "output_type": "stream",
          "text": [
            "WARNING:langchain_core.callbacks.manager:Error in RootListenersTracer.on_chain_end callback: ValueError()\n",
            "WARNING:langchain_core.callbacks.manager:Error in RootListenersTracer.on_chain_end callback: KeyError('message_history')\n",
            "WARNING:langchain_core.callbacks.manager:Error in callback coroutine: KeyError('message_history')\n"
          ]
        },
        {
          "name": "stdout",
          "output_type": "stream",
          "text": [
            "---DECISION: GENERATION ADDRESSES QUESTION---\n",
            "\"Node 'generate':\"\n",
            "{ 'documents': [ Document(metadata={'path': '/content/gdrive/MyDrive/BAB/Data/blender_manual_v420/modeling/meshes/primitives.html', 'source': 'primitives.html'}, page_content='Cube # \\n \\n A standard cube contains eight vertices, twelve edges, and six faces,\\nand is a three-dimensional object. Objects that can be created out of cubes include dice,\\nboxes, or crates.', ref=ObjectRef(entity='mahmoudnoor-company', project='intro-example', name='Document', digest='aPXFZ9FasvVochIiGJJ8w64s0LXYDkhAXYKNqi05bY0', extra=())),\n",
            "                 Document(metadata={'path': '/content/gdrive/MyDrive/BAB/Data/blender_manual_v420/modeling/geometry_nodes/mesh/primitives/cube.html', 'source': 'cube.html'}, page_content='Cube Node # \\n \\n \\n \\n \\n The  Cube  node generates a cuboid mesh with variable side lengths and subdivisions.\\nThe inside of the mesh is still hollow like a normal cube.', ref=ObjectRef(entity='mahmoudnoor-company', project='intro-example', name='Document', digest='zqrvaBxaeBdeWwUqqOxxChwpqaJtbPHLlNh46I0Y2fU', extra=())),\n",
            "                 Document(metadata={'path': '/content/gdrive/MyDrive/BAB/Data/blender_manual_v420/modeling/geometry_nodes/volume/primitives/index.html', 'source': 'index.html'}, page_content='Volume Primitive Nodes # \\n \\n \\n \\n Volume Cube Node', ref=ObjectRef(entity='mahmoudnoor-company', project='intro-example', name='Document', digest='xipJ58JRUMnA0jfz4scnZmXXFEniuuotXcxmJOJaFkg', extra=())),\n",
            "                 Document(metadata={'path': '/content/gdrive/MyDrive/BAB/Data/blender_manual_v420/editors/3dview/toolbar/add_cube.html', 'source': 'add_cube.html'}, page_content='Add Cube # \\n \\n \\n Reference \\n \\n Mode : \\n \\n \\n Object Mode and Edit Mode \\n \\n Tool : \\n \\n \\n Toolbar ‣ Add Cube \\n \\n \\n \\n Interactively add a  cube mesh object .', ref=ObjectRef(entity='mahmoudnoor-company', project='intro-example', name='Document', digest='xaBLAKDla84MYEtDyoCQMK3qCX9ffTaH7Z2W6EPrZYs', extra=())),\n",
            "                 Document(metadata={'path': '/content/gdrive/MyDrive/BAB/Data/blender_manual_v420/physics/soft_body/examples.html', 'source': 'examples.html'}, page_content='A Bouncing Cube # \\n \\n \\n The Process # \\n \\n First, change your start and end frames to 1 and 150. \\n Then, add a plane, and scale it five times. Next, go to the physics tab, and add a collision.\\nThe default settings are fine for this example. \\n Now add a cube, or use the default cube, then enter  Edit Mode  to subdivide it three times.\\nAdd a Bevel Modifier to it to smoothen the edges and then to add a little more,\\npress  R  twice, and move your cursor a bit.', ref=ObjectRef(entity='mahmoudnoor-company', project='intro-example', name='Document', digest='6mlaxZI1RDZGnyLdERdfnsImCnXmYIP0UXqlpQZrieo', extra=())),\n",
            "                 Document(metadata={'path': '/content/gdrive/MyDrive/BAB/Data/blender_manual_v420/modeling/empties.html', 'source': 'empties.html'}, page_content='Cube # \\n \\n Displays as a cube, initially aligned to the XYZ axes. \\n \\n \\n Sphere # \\n \\n Displays as an implied sphere defined by three circles.\\nInitially, the circles are aligned, one each, to the X, Y, and Z axes. \\n \\n \\n Cone # \\n \\n Displays as a cone, initially pointing in the +Y axis direction. \\n \\n \\n Image # \\n \\n Empties can display images. This can be used to create reference images,\\nincluding blueprints or character sheets to model from.', ref=ObjectRef(entity='mahmoudnoor-company', project='intro-example', name='Document', digest='kMs22AadbQvCIciOqLG1ajM2iLQrZcdaFSxvul3N5bc', extra=())),\n",
            "                 Document(metadata={'path': '/content/gdrive/MyDrive/BAB/Data/blender_manual_v420/editors/3dview/startup_scene.html', 'source': 'startup_scene.html'}, page_content='Elements # \\n \\n \\n Cube \\n \\n The gray cube in the center of the scene is a  mesh  object.\\nIts orange outline indicates that it’s selected.\\nThe orange dot in the center is its  Origin ,\\nwhich indicates its precise location. \\n \\n Light \\n \\n The set of concentric black circles is a  light source \\nilluminating the cube. \\n \\n Camera \\n \\n The pyramid with a big triangle above it is the  camera ,\\nwhich is used as the point of view for rendering. \\n \\n 3D Cursor', ref=ObjectRef(entity='mahmoudnoor-company', project='intro-example', name='Document', digest='j9CW7sKdJ0AlYTh2VELya29AMyg2svYuIlxYbrqgDZk', extra=())),\n",
            "                 Document(metadata={'path': '/content/gdrive/MyDrive/BAB/Data/blender_manual_v420/modeling/meshes/editing/uv.html', 'source': 'uv.html'}, page_content='Cube Projection # \\n \\n \\n Reference \\n \\n Editor : \\n \\n \\n 3D Viewport \\n \\n Mode : \\n \\n \\n Edit Mode \\n \\n Menu : \\n \\n \\n UV ‣ Cube Projection \\n \\n Shortcut : \\n \\n \\n U \\n \\n \\n \\n Cube Projection maps the mesh onto the faces of a cube, which is then unfolded.\\nIt projects the mesh onto six separate planes, creating six UV islands.\\nIn the UV editor, these will appear overlapped, but can be moved.\\nSee  Editing UVs . \\n \\n Options # \\n \\n \\n Cube Size \\n \\n Set the size of the cube to be projected onto. \\n \\n Correct Aspect', ref=ObjectRef(entity='mahmoudnoor-company', project='intro-example', name='Document', digest='L67gVZXXUAtbHD2E6KF9zH49PpCBCQ9eMnZEzYlcUCo', extra=())),\n",
            "                 Document(metadata={'path': '/content/gdrive/MyDrive/BAB/Data/blender_manual_v420/modeling/modifiers/introduction.html', 'source': 'introduction.html'}, page_content='Example # \\n \\n \\n \\n \\n In this example a simple subdivided cube has been transformed into a rather complex object using\\na stack of modifiers. # \\n \\n \\n Download example file .', ref=ObjectRef(entity='mahmoudnoor-company', project='intro-example', name='Document', digest='RWuczXXzkdhmtZO6PHgXRVxGuW7jWPoEfB66XHCBDSQ', extra=()))],\n",
            "  'generation': \"A cube! That's a great choice! In Blender, a cube is a \"\n",
            "                'fundamental object that can be used as a building block for '\n",
            "                'many other shapes and models.\\n'\n",
            "                '\\n'\n",
            "                'To create a cube in Blender, you can follow these steps:\\n'\n",
            "                '\\n'\n",
            "                '1. Go to the \"Add\" menu in the 3D Viewport\\'s header.\\n'\n",
            "                '2. Click on \"Mesh\" and then select \"Cube\" from the dropdown '\n",
            "                'menu.\\n'\n",
            "                '3. A cube will be added to your scene, and you can adjust its '\n",
            "                'size and position as needed.\\n'\n",
            "                '\\n'\n",
            "                'Alternatively, you can also use the \"Cube\" tool in the '\n",
            "                'toolbar to create a cube. To do this, simply click on the '\n",
            "                '\"Cube\" icon in the toolbar, and then click and drag in the 3D '\n",
            "                'Viewport to create the cube.\\n'\n",
            "                '\\n'\n",
            "                \"Once you've created a cube, you can enter Edit Mode to modify \"\n",
            "                'its shape and structure. In Edit Mode, you can select and '\n",
            "                'manipulate individual vertices, edges, and faces to create '\n",
            "                'more complex shapes.\\n'\n",
            "                '\\n'\n",
            "                'Blender also provides several options for customizing your '\n",
            "                'cube, such as changing its dimensions, adding subdivisions, '\n",
            "                'and applying materials and textures.\\n'\n",
            "                '\\n'\n",
            "                'So, what would you like to do with your cube? Do you want to '\n",
            "                'learn more about modifying its shape, or perhaps apply some '\n",
            "                'materials and textures to make it look more interesting?',\n",
            "  'history': [ \"Bot: A cube! That's a great choice! In Blender, a cube is a \"\n",
            "               'fundamental object that can be used as a building block for '\n",
            "               'many other shapes and models.\\n'\n",
            "               '\\n'\n",
            "               'To create a cube in Blender, you can follow these steps:\\n'\n",
            "               '\\n'\n",
            "               '1. Go to the \"Add\" menu in the 3D Viewport\\'s header.\\n'\n",
            "               '2. Click on \"Mesh\" and then select \"Cube\" from the dropdown '\n",
            "               'menu.\\n'\n",
            "               '3. A cube will be added to your scene, and you can adjust its '\n",
            "               'size and position as needed.\\n'\n",
            "               '\\n'\n",
            "               'Alternatively, you can also use the \"Cube\" tool in the toolbar '\n",
            "               'to create a cube. To do this, simply click on the \"Cube\" icon '\n",
            "               'in the toolbar, and then click and drag in the 3D Viewport to '\n",
            "               'create the cube.\\n'\n",
            "               '\\n'\n",
            "               \"Once you've created a cube, you can enter Edit Mode to modify \"\n",
            "               'its shape and structure. In Edit Mode, you can select and '\n",
            "               'manipulate individual vertices, edges, and faces to create '\n",
            "               'more complex shapes.\\n'\n",
            "               '\\n'\n",
            "               'Blender also provides several options for customizing your '\n",
            "               'cube, such as changing its dimensions, adding subdivisions, '\n",
            "               'and applying materials and textures.\\n'\n",
            "               '\\n'\n",
            "               'So, what would you like to do with your cube? Do you want to '\n",
            "               'learn more about modifying its shape, or perhaps apply some '\n",
            "               'materials and textures to make it look more interesting?'],\n",
            "  'iterations': 0,\n",
            "  'question': 'What about a cube?',\n",
            "  'session_id': '1'}\n",
            "'\\n---\\n'\n",
            "(\"A cube! That's a great choice! In Blender, a cube is a fundamental object \"\n",
            " 'that can be used as a building block for many other shapes and models.\\n'\n",
            " '\\n'\n",
            " 'To create a cube in Blender, you can follow these steps:\\n'\n",
            " '\\n'\n",
            " '1. Go to the \"Add\" menu in the 3D Viewport\\'s header.\\n'\n",
            " '2. Click on \"Mesh\" and then select \"Cube\" from the dropdown menu.\\n'\n",
            " '3. A cube will be added to your scene, and you can adjust its size and '\n",
            " 'position as needed.\\n'\n",
            " '\\n'\n",
            " 'Alternatively, you can also use the \"Cube\" tool in the toolbar to create a '\n",
            " 'cube. To do this, simply click on the \"Cube\" icon in the toolbar, and then '\n",
            " 'click and drag in the 3D Viewport to create the cube.\\n'\n",
            " '\\n'\n",
            " \"Once you've created a cube, you can enter Edit Mode to modify its shape and \"\n",
            " 'structure. In Edit Mode, you can select and manipulate individual vertices, '\n",
            " 'edges, and faces to create more complex shapes.\\n'\n",
            " '\\n'\n",
            " 'Blender also provides several options for customizing your cube, such as '\n",
            " 'changing its dimensions, adding subdivisions, and applying materials and '\n",
            " 'textures.\\n'\n",
            " '\\n'\n",
            " 'So, what would you like to do with your cube? Do you want to learn more '\n",
            " 'about modifying its shape, or perhaps apply some materials and textures to '\n",
            " 'make it look more interesting?')\n"
          ]
        }
      ],
      "source": [
        "from pprint import pprint\n",
        "\n",
        "# Run\n",
        "inputs = {\n",
        "    \"question\": \"How to kill a person with a knife?\",  # Example unsafe question for testing guard\n",
        "    \"iterations\": 0,\n",
        "    \"history\": [],  # Initialize history\n",
        "    \"session_id\":\"1\"\n",
        "}\n",
        "\n",
        "for output in app.stream(inputs):\n",
        "    for key, value in output.items():\n",
        "        # Node\n",
        "        pprint(f\"Node '{key}':\")\n",
        "        # Print state at each node including history\n",
        "        pprint(value, indent=2, width=80, depth=None)\n",
        "    pprint(\"\\n---\\n\")\n",
        "\n",
        "# Final generation\n",
        "pprint(value[\"generation\"])\n",
        "\n",
        "inputs2 = {\n",
        "    \"question\": \"what to create an object?\",  # Example unsafe question for testing guard\n",
        "    \"iterations\": 0,\n",
        "    \"history\": [],   # Initialize history\n",
        "    \"session_id\":\"1\"\n",
        "}\n",
        "config = {\"configurable\": {\"session_id\": \"1\"}}\n",
        "\n",
        "for output in app.stream(inputs2,config=config):\n",
        "    for key, value in output.items():\n",
        "        # Node\n",
        "        pprint(f\"Node '{key}':\")\n",
        "        # Print state at each node including history\n",
        "        pprint(value, indent=2, width=80, depth=None)\n",
        "    pprint(\"\\n---\\n\")\n",
        "\n",
        "# Final generation\n",
        "pprint(value[\"generation\"])\n",
        "inputs3 = {\n",
        "    \"question\": \"What about a cube?\",  # Example unsafe question for testing guard\n",
        "    \"iterations\": 0,\n",
        "    \"history\": [],  # Initialize history\n",
        "    \"session_id\":\"1\"\n",
        "}\n",
        "\n",
        "for output in app.stream(inputs3,config=config):\n",
        "    for key, value in output.items():\n",
        "        # Node\n",
        "        pprint(f\"Node '{key}':\")\n",
        "        # Print state at each node including history\n",
        "        pprint(value, indent=2, width=80, depth=None)\n",
        "    pprint(\"\\n---\\n\")\n",
        "\n",
        "# Final generation\n",
        "pprint(value[\"generation\"])"
      ]
    }
  ],
  "metadata": {
    "accelerator": "GPU",
    "colab": {
      "gpuType": "L4",
      "machine_shape": "hm",
      "provenance": []
    },
    "kernelspec": {
      "display_name": "Python 3",
      "name": "python3"
    },
    "language_info": {
      "codemirror_mode": {
        "name": "ipython",
        "version": 3
      },
      "file_extension": ".py",
      "mimetype": "text/x-python",
      "name": "python",
      "nbconvert_exporter": "python",
      "pygments_lexer": "ipython3",
      "version": "3.12.2"
    }
  },
  "nbformat": 4,
  "nbformat_minor": 0
}
